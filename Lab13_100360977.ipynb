{
 "cells": [
  {
   "cell_type": "markdown",
   "metadata": {},
   "source": [
    "# RDBMS and SQL"
   ]
  },
  {
   "cell_type": "markdown",
   "metadata": {},
   "source": [
    "Complete the tasks listed below. You can submit the completed lab until 11:59 PM in the night."
   ]
  },
  {
   "cell_type": "markdown",
   "metadata": {},
   "source": [
    "<u>Requirement:</u><br>\n",
    "Do your best to write Pythonic code instead of the traditional programming code."
   ]
  },
  {
   "cell_type": "markdown",
   "metadata": {},
   "source": [
    "### Task 1 (2 marks)\n",
    "\n",
    "Connect to the supplied database __petsDB__, and write a function named __is_open__ to check if the connection is open or closed. The function, when called, should return either True or False depending upon whether the connection to the database is open or closed. The output in the two cases should look as follows:"
   ]
  },
  {
   "cell_type": "markdown",
   "metadata": {
    "slideshow": {
     "slide_type": "fragment"
    }
   },
   "source": [
    "True\n",
    "\n",
    "Connection closed. Cannot operate on a closed database.<br>False"
   ]
  },
  {
   "cell_type": "markdown",
   "metadata": {},
   "source": [
    "<u>Hint:</u> Use __try__ and __except__ along with the exception error `sqlite3.ProgrammingError` in conjunction with __except__."
   ]
  },
  {
   "cell_type": "code",
   "execution_count": 1,
   "metadata": {},
   "outputs": [],
   "source": [
    "### Write your code below this comment.\n",
    "import sqlite3\n",
    "conn = sqlite3.connect(\"petsdb\")"
   ]
  },
  {
   "cell_type": "code",
   "execution_count": 2,
   "metadata": {},
   "outputs": [
    {
     "name": "stdout",
     "output_type": "stream",
     "text": [
      "True\n"
     ]
    }
   ],
   "source": [
    "#Define a is_open on connectivity test\n",
    "def is_open(conn):\n",
    "    try:\n",
    "        #select 1 row from persons table\n",
    "        conn.execute(\"Select 1 From persons\")\n",
    "        return True\n",
    "    #define exception handling\n",
    "    except sqlite3.ProgrammingError as err:\n",
    "        print(\"Connection closed ()\".format(err))\n",
    "        return False\n",
    "print(is_open(conn))"
   ]
  },
  {
   "cell_type": "code",
   "execution_count": 3,
   "metadata": {},
   "outputs": [],
   "source": [
    "conn.close()"
   ]
  },
  {
   "cell_type": "code",
   "execution_count": 4,
   "metadata": {},
   "outputs": [
    {
     "name": "stdout",
     "output_type": "stream",
     "text": [
      "Connection closed ()\n",
      "False\n"
     ]
    }
   ],
   "source": [
    "print(is_open(conn))"
   ]
  },
  {
   "cell_type": "markdown",
   "metadata": {},
   "source": [
    "### Task 2 (2 marks)\n",
    "\n",
    "Now connect to the provided database __petsDB__ once again and retrieve the names of all the tables from the database as a list of tuples. Also retrieve the column names for all the tables as a list of strings. The outputs should look as follows respectively:"
   ]
  },
  {
   "cell_type": "markdown",
   "metadata": {
    "slideshow": {
     "slide_type": "fragment"
    }
   },
   "source": [
    "    The names of the tables in the database are as follows:\n",
    "\n",
    "    [('persons',), ('pets',)]\n",
    "\n",
    "    The names of the columns in the table 'persons' are as follows:\n",
    "\n",
    "    ['Id', 'First Name', 'Last Name', 'Age', 'City', 'Zip Code']:\n",
    "\n",
    "    The first 5 rows in the table 'persons' are as follows:\n",
    "    \n",
    "    [(1, 'Erica', None, 22, 'south port', 2345678),\n",
    "     (2, 'Jordi', None, 73, 'east port', 123456),\n",
    "     (3, 'Chasity', None, 70, 'new port', 76856785),\n",
    "     (4, 'Gregg', None, 31, 'new port', 76856785),\n",
    "     (5, 'Tony', 'Lindgren', 7, 'west port', 2345678)]\n",
    "     \n",
    "    The names of the columns in the table 'pets' are as follows:\n",
    "\n",
    "    ['Owner Id', 'Pet Name', 'Pet Type', 'Treatment Done']:\n",
    "\n",
    "    The first 5 rows in the table 'pets' are as follows:\n",
    "    \n",
    "    [(57, 'mani', 1.0, 0),\n",
    "     (80, 'tamari', None, 0),\n",
    "     (25, 'raba', None, 0),\n",
    "     (27, 'olga', None, 0),\n",
    "     (60, 'raba', None, 0)]"
   ]
  },
  {
   "cell_type": "markdown",
   "metadata": {},
   "source": [
    "<u>Hint:</u> Use __sqlite_master WHERE__ ... You would also need to use list comprehension along with the string __join__ method and __map__ function so that the names of columns ('Id', 'First Name' etc) are in title case and separated by a space instead of lower case and separated by hyphens (which is the case with the names coming from the database)."
   ]
  },
  {
   "cell_type": "code",
   "execution_count": 5,
   "metadata": {},
   "outputs": [],
   "source": [
    "### Write your code below this comment.\n",
    "conn = sqlite3.connect(\"petsdb\")\n",
    "cursor = conn.cursor()"
   ]
  },
  {
   "cell_type": "code",
   "execution_count": 6,
   "metadata": {},
   "outputs": [
    {
     "name": "stdout",
     "output_type": "stream",
     "text": [
      "The names of the tables in the database are as follows:\n",
      "[('persons',), ('pets',)]\n"
     ]
    }
   ],
   "source": [
    "#Table Name handling\n",
    "print(\"The names of the tables in the database are as follows:\")\n",
    "cursor.execute(\"select tbl_name from sqlite_master where type='table';\")\n",
    "print(cursor.fetchall())"
   ]
  },
  {
   "cell_type": "code",
   "execution_count": 7,
   "metadata": {},
   "outputs": [
    {
     "name": "stdout",
     "output_type": "stream",
     "text": [
      "The names of the columns in the table 'persons' are as follows:\n",
      "['Id', 'First Name', 'Last Name', 'Age', 'City', 'Zip Code']\n"
     ]
    }
   ],
   "source": [
    "#Person table\n",
    "print(\"The names of the columns in the table 'persons' are as follows:\")\n",
    "\n",
    "tblPersons = cursor.execute(\"SELECT * FROM persons limit 5\")\n",
    "tblPersonCol = list(map(lambda x: x[0].title().replace('_',' '), cursor.description))    \n",
    "print(tblPersonCol)"
   ]
  },
  {
   "cell_type": "code",
   "execution_count": 8,
   "metadata": {},
   "outputs": [
    {
     "name": "stdout",
     "output_type": "stream",
     "text": [
      "The first 5 rows in the table 'persons' are as follows:\n"
     ]
    },
    {
     "data": {
      "text/plain": [
       "[(1, 'Erica', None, 22, 'south port', 2345678),\n",
       " (2, 'Jordi', None, 73, 'east port', 123456),\n",
       " (3, 'Chasity', None, 70, 'new port', 76856785),\n",
       " (4, 'Gregg', None, 31, 'new port', 76856785),\n",
       " (5, 'Tony', 'Lindgren', 7, 'west port', 2345678)]"
      ]
     },
     "execution_count": 8,
     "metadata": {},
     "output_type": "execute_result"
    }
   ],
   "source": [
    "print(\"The first 5 rows in the table 'persons' are as follows:\")\n",
    "tblPersons.fetchall()"
   ]
  },
  {
   "cell_type": "code",
   "execution_count": 9,
   "metadata": {},
   "outputs": [
    {
     "name": "stdout",
     "output_type": "stream",
     "text": [
      "The names of the columns in the table 'pets' are as follows:\n",
      "['Owner Id', 'Pet Name', 'Pet Type', 'Treatment Done']\n"
     ]
    }
   ],
   "source": [
    "#Pet table\n",
    "print(\"The names of the columns in the table 'pets' are as follows:\")\n",
    "\n",
    "tblPets = cursor.execute(\"SELECT * FROM pets limit 5\")\n",
    "tblPetsCol = list(map(lambda x: x[0].title().replace('_',' '), cursor.description))    \n",
    "print(tblPetsCol)"
   ]
  },
  {
   "cell_type": "code",
   "execution_count": 10,
   "metadata": {},
   "outputs": [
    {
     "name": "stdout",
     "output_type": "stream",
     "text": [
      "The first 5 rows in the table 'pets' are as follows:\n"
     ]
    },
    {
     "data": {
      "text/plain": [
       "[(57, 'mani', 1.0, 0),\n",
       " (80, 'tamari', None, 0),\n",
       " (25, 'raba', None, 0),\n",
       " (27, 'olga', None, 0),\n",
       " (60, 'raba', None, 0)]"
      ]
     },
     "execution_count": 10,
     "metadata": {},
     "output_type": "execute_result"
    }
   ],
   "source": [
    "print(\"The first 5 rows in the table 'pets' are as follows:\")\n",
    "tblPets.fetchall()"
   ]
  },
  {
   "cell_type": "markdown",
   "metadata": {},
   "source": [
    "### Task 3 (2 marks)\n",
    "\n",
    "Now transform the tables __persons__ and __pets__ into two Dataframes named __df_persons__ and __df_pets__ respectively, so that you can go ahead with the tasks to follow."
   ]
  },
  {
   "cell_type": "code",
   "execution_count": 18,
   "metadata": {},
   "outputs": [
    {
     "data": {
      "text/html": [
       "<div>\n",
       "<style scoped>\n",
       "    .dataframe tbody tr th:only-of-type {\n",
       "        vertical-align: middle;\n",
       "    }\n",
       "\n",
       "    .dataframe tbody tr th {\n",
       "        vertical-align: top;\n",
       "    }\n",
       "\n",
       "    .dataframe thead th {\n",
       "        text-align: right;\n",
       "    }\n",
       "</style>\n",
       "<table border=\"1\" class=\"dataframe\">\n",
       "  <thead>\n",
       "    <tr style=\"text-align: right;\">\n",
       "      <th></th>\n",
       "      <th>ID</th>\n",
       "      <th>First Name</th>\n",
       "      <th>Last Name</th>\n",
       "      <th>Age</th>\n",
       "      <th>City</th>\n",
       "      <th>Zip Code</th>\n",
       "    </tr>\n",
       "  </thead>\n",
       "  <tbody>\n",
       "    <tr>\n",
       "      <th>0</th>\n",
       "      <td>1</td>\n",
       "      <td>Erica</td>\n",
       "      <td>None</td>\n",
       "      <td>22</td>\n",
       "      <td>south port</td>\n",
       "      <td>2345678</td>\n",
       "    </tr>\n",
       "    <tr>\n",
       "      <th>1</th>\n",
       "      <td>2</td>\n",
       "      <td>Jordi</td>\n",
       "      <td>None</td>\n",
       "      <td>73</td>\n",
       "      <td>east port</td>\n",
       "      <td>123456</td>\n",
       "    </tr>\n",
       "    <tr>\n",
       "      <th>2</th>\n",
       "      <td>3</td>\n",
       "      <td>Chasity</td>\n",
       "      <td>None</td>\n",
       "      <td>70</td>\n",
       "      <td>new port</td>\n",
       "      <td>76856785</td>\n",
       "    </tr>\n",
       "    <tr>\n",
       "      <th>3</th>\n",
       "      <td>4</td>\n",
       "      <td>Gregg</td>\n",
       "      <td>None</td>\n",
       "      <td>31</td>\n",
       "      <td>new port</td>\n",
       "      <td>76856785</td>\n",
       "    </tr>\n",
       "    <tr>\n",
       "      <th>4</th>\n",
       "      <td>5</td>\n",
       "      <td>Tony</td>\n",
       "      <td>Lindgren</td>\n",
       "      <td>7</td>\n",
       "      <td>west port</td>\n",
       "      <td>2345678</td>\n",
       "    </tr>\n",
       "  </tbody>\n",
       "</table>\n",
       "</div>"
      ],
      "text/plain": [
       "   ID First Name Last Name  Age        City  Zip Code\n",
       "0   1      Erica      None   22  south port   2345678\n",
       "1   2      Jordi      None   73   east port    123456\n",
       "2   3    Chasity      None   70    new port  76856785\n",
       "3   4      Gregg      None   31    new port  76856785\n",
       "4   5       Tony  Lindgren    7   west port   2345678"
      ]
     },
     "execution_count": 18,
     "metadata": {},
     "output_type": "execute_result"
    }
   ],
   "source": [
    "### Write your code below this comment.\n",
    "import pandas as pd\n",
    "columns = [\"ID\", \"First Name\", \"Last Name\", \"Age\", \"City\", \"Zip Code\"]\n",
    "data = []\n",
    "sql = \"\"\"SELECT * FROM persons\"\"\"\n",
    "persons = cursor.execute(sql)\n",
    "\n",
    "for row in persons:\n",
    "    data.append(row)\n",
    "    \n",
    "df_persons = pd.DataFrame(data, columns=columns)\n",
    "df_persons.head()"
   ]
  },
  {
   "cell_type": "code",
   "execution_count": 17,
   "metadata": {},
   "outputs": [
    {
     "data": {
      "text/html": [
       "<div>\n",
       "<style scoped>\n",
       "    .dataframe tbody tr th:only-of-type {\n",
       "        vertical-align: middle;\n",
       "    }\n",
       "\n",
       "    .dataframe tbody tr th {\n",
       "        vertical-align: top;\n",
       "    }\n",
       "\n",
       "    .dataframe thead th {\n",
       "        text-align: right;\n",
       "    }\n",
       "</style>\n",
       "<table border=\"1\" class=\"dataframe\">\n",
       "  <thead>\n",
       "    <tr style=\"text-align: right;\">\n",
       "      <th></th>\n",
       "      <th>Owner Id</th>\n",
       "      <th>Pet Name</th>\n",
       "      <th>Pet Type</th>\n",
       "      <th>Treatment Done</th>\n",
       "    </tr>\n",
       "  </thead>\n",
       "  <tbody>\n",
       "    <tr>\n",
       "      <th>0</th>\n",
       "      <td>57</td>\n",
       "      <td>mani</td>\n",
       "      <td>1.0</td>\n",
       "      <td>0</td>\n",
       "    </tr>\n",
       "    <tr>\n",
       "      <th>1</th>\n",
       "      <td>80</td>\n",
       "      <td>tamari</td>\n",
       "      <td>NaN</td>\n",
       "      <td>0</td>\n",
       "    </tr>\n",
       "    <tr>\n",
       "      <th>2</th>\n",
       "      <td>25</td>\n",
       "      <td>raba</td>\n",
       "      <td>NaN</td>\n",
       "      <td>0</td>\n",
       "    </tr>\n",
       "    <tr>\n",
       "      <th>3</th>\n",
       "      <td>27</td>\n",
       "      <td>olga</td>\n",
       "      <td>NaN</td>\n",
       "      <td>0</td>\n",
       "    </tr>\n",
       "    <tr>\n",
       "      <th>4</th>\n",
       "      <td>60</td>\n",
       "      <td>raba</td>\n",
       "      <td>NaN</td>\n",
       "      <td>0</td>\n",
       "    </tr>\n",
       "  </tbody>\n",
       "</table>\n",
       "</div>"
      ],
      "text/plain": [
       "   Owner Id Pet Name  Pet Type  Treatment Done\n",
       "0        57     mani       1.0               0\n",
       "1        80   tamari       NaN               0\n",
       "2        25     raba       NaN               0\n",
       "3        27     olga       NaN               0\n",
       "4        60     raba       NaN               0"
      ]
     },
     "execution_count": 17,
     "metadata": {},
     "output_type": "execute_result"
    }
   ],
   "source": [
    "### Write your code below this comment.\n",
    "import pandas as pd \n",
    "columns = [\"Owner Id\", \"Pet Name\", \"Pet Type\", \"Treatment Done\"]\n",
    "data = []\n",
    "sql = \"\"\"SELECT * FROM pets\"\"\"\n",
    "persons = cursor.execute(sql)\n",
    "\n",
    "for row in persons:\n",
    "    data.append(row)\n",
    "    \n",
    "df_pets = pd.DataFrame(data, columns=columns)\n",
    "df_pets.head()"
   ]
  },
  {
   "cell_type": "markdown",
   "metadata": {},
   "source": [
    "### Task 4 (2 marks)\n",
    "\n",
    "Consider the following question:\n",
    "\n",
    "__What are counts for each unique age group in the persons database?__\n",
    "\n",
    "Answer this question using a SQL query from the database (save it as __sql_4__) as well as using the Dataframe __df_persons__ you created in Task 3 above.\n",
    "\n",
    "The SQL query should return a list of tuples named __rows__ which you should then use to create a Dataframe named __df_sql__ with an index column named `'Age'` and another column named `'Counts'`. The Dataframe should look as follows:"
   ]
  },
  {
   "cell_type": "markdown",
   "metadata": {
    "slideshow": {
     "slide_type": "fragment"
    }
   },
   "source": [
    "<img align=left src=\"images/df_sql_res4.png\" height=\"105\" width=\"105\">"
   ]
  },
  {
   "cell_type": "markdown",
   "metadata": {},
   "source": [
    "Similarly, also use methods from __pandas__ in conjunction with the Dataframe __df_persons__ to mimic your SQL query and create another Dataframe named __df_pd__ which looks exactly the same as the Dataframe __df_sql__ shown above."
   ]
  },
  {
   "cell_type": "code",
   "execution_count": 13,
   "metadata": {},
   "outputs": [
    {
     "data": {
      "text/html": [
       "<div>\n",
       "<style scoped>\n",
       "    .dataframe tbody tr th:only-of-type {\n",
       "        vertical-align: middle;\n",
       "    }\n",
       "\n",
       "    .dataframe tbody tr th {\n",
       "        vertical-align: top;\n",
       "    }\n",
       "\n",
       "    .dataframe thead th {\n",
       "        text-align: right;\n",
       "    }\n",
       "</style>\n",
       "<table border=\"1\" class=\"dataframe\">\n",
       "  <thead>\n",
       "    <tr style=\"text-align: right;\">\n",
       "      <th></th>\n",
       "      <th>Counts</th>\n",
       "    </tr>\n",
       "    <tr>\n",
       "      <th>Age</th>\n",
       "      <th></th>\n",
       "    </tr>\n",
       "  </thead>\n",
       "  <tbody>\n",
       "    <tr>\n",
       "      <th>5</th>\n",
       "      <td>2</td>\n",
       "    </tr>\n",
       "    <tr>\n",
       "      <th>6</th>\n",
       "      <td>1</td>\n",
       "    </tr>\n",
       "    <tr>\n",
       "      <th>7</th>\n",
       "      <td>1</td>\n",
       "    </tr>\n",
       "    <tr>\n",
       "      <th>8</th>\n",
       "      <td>3</td>\n",
       "    </tr>\n",
       "    <tr>\n",
       "      <th>9</th>\n",
       "      <td>1</td>\n",
       "    </tr>\n",
       "  </tbody>\n",
       "</table>\n",
       "</div>"
      ],
      "text/plain": [
       "     Counts\n",
       "Age        \n",
       "5         2\n",
       "6         1\n",
       "7         1\n",
       "8         3\n",
       "9         1"
      ]
     },
     "execution_count": 13,
     "metadata": {},
     "output_type": "execute_result"
    }
   ],
   "source": [
    "### Write your code below this comment.\n",
    "import pandas as pd\n",
    "\n",
    "colName = [\"Age\", \"Counts\"]\n",
    "tupleAge = []\n",
    "sql_4 = \"select age, count(*) from persons group by age\"\n",
    "\n",
    "for r in cursor.execute(sql_4):\n",
    "    tupleAge.append(r)\n",
    "\n",
    "df_sql = pd.DataFrame(tupleAge, columns = colName)\n",
    "df_sql.set_index('Age').head(5)"
   ]
  },
  {
   "cell_type": "code",
   "execution_count": 14,
   "metadata": {},
   "outputs": [
    {
     "data": {
      "text/html": [
       "<div>\n",
       "<style scoped>\n",
       "    .dataframe tbody tr th:only-of-type {\n",
       "        vertical-align: middle;\n",
       "    }\n",
       "\n",
       "    .dataframe tbody tr th {\n",
       "        vertical-align: top;\n",
       "    }\n",
       "\n",
       "    .dataframe thead th {\n",
       "        text-align: right;\n",
       "    }\n",
       "</style>\n",
       "<table border=\"1\" class=\"dataframe\">\n",
       "  <thead>\n",
       "    <tr style=\"text-align: right;\">\n",
       "      <th></th>\n",
       "      <th>Counts</th>\n",
       "    </tr>\n",
       "    <tr>\n",
       "      <th>Age</th>\n",
       "      <th></th>\n",
       "    </tr>\n",
       "  </thead>\n",
       "  <tbody>\n",
       "    <tr>\n",
       "      <th>5</th>\n",
       "      <td>2</td>\n",
       "    </tr>\n",
       "    <tr>\n",
       "      <th>6</th>\n",
       "      <td>1</td>\n",
       "    </tr>\n",
       "    <tr>\n",
       "      <th>7</th>\n",
       "      <td>1</td>\n",
       "    </tr>\n",
       "    <tr>\n",
       "      <th>8</th>\n",
       "      <td>3</td>\n",
       "    </tr>\n",
       "    <tr>\n",
       "      <th>9</th>\n",
       "      <td>1</td>\n",
       "    </tr>\n",
       "  </tbody>\n",
       "</table>\n",
       "</div>"
      ],
      "text/plain": [
       "     Counts\n",
       "Age        \n",
       "5         2\n",
       "6         1\n",
       "7         1\n",
       "8         3\n",
       "9         1"
      ]
     },
     "execution_count": 14,
     "metadata": {},
     "output_type": "execute_result"
    }
   ],
   "source": [
    "df_pd=df_persons.Age.value_counts().reset_index(\n",
    "    name='Counts').rename(columns={'index': 'Age', 1: 'Counts'}\n",
    "                         ).sort_values(by = 'Age', ascending = True)\n",
    "df_pd.set_index('Age').head()"
   ]
  },
  {
   "cell_type": "markdown",
   "metadata": {},
   "source": [
    "Now answer the following question:\n",
    "\n",
    "What similarities / differences did you find between the SQL query you wrote and saved as __sql_4__ and the code you used to create the Dataframe __df_pd__?"
   ]
  },
  {
   "cell_type": "markdown",
   "metadata": {},
   "source": [
    "__Answer__: \n",
    "What I found simliar as both results are group by age and count.\n",
    "The difference is sql statement be more direct use of variables Age and count, while panda can provide more features (transform, aggregrate and sort) from the dataframe."
   ]
  },
  {
   "cell_type": "markdown",
   "metadata": {},
   "source": [
    "### Task 5 (2 marks)\n",
    "\n",
    "Consider the following question:\n",
    "\n",
    "__How many pets are there from the city called \"east port\"?__\n",
    "\n",
    "Answer this question using a SQL query from the database (save it as __sql_5__). Also use methods from __pandas__ in conjunction with the Dataframes __df_persons__ and __df_pets__ you created in Task 3 above to mimic your SQL query. Save the joined Dataframe as __df_pd_join__.\n",
    "\n",
    "In both cases, the output is a number."
   ]
  },
  {
   "cell_type": "code",
   "execution_count": 22,
   "metadata": {},
   "outputs": [
    {
     "data": {
      "text/plain": [
       "[(49,)]"
      ]
     },
     "execution_count": 22,
     "metadata": {},
     "output_type": "execute_result"
    }
   ],
   "source": [
    "### Write your code below this comment.\n",
    "sql =\"Select count(*) from pets join persons on pets.owner_id = persons.id where persons.city='east port'\"\n",
    "sql_5 = cursor.execute(sql)\n",
    "sql_5.fetchall()"
   ]
  },
  {
   "cell_type": "markdown",
   "metadata": {},
   "source": [
    "Now answer the following question:\n",
    "\n",
    "What similarities / differences did you find between the SQL query you wrote and saved as __sql_5__ and the code you used to create the Dataframe __df_pd_join__?"
   ]
  },
  {
   "cell_type": "code",
   "execution_count": 23,
   "metadata": {},
   "outputs": [
    {
     "data": {
      "text/plain": [
       "49"
      ]
     },
     "execution_count": 23,
     "metadata": {},
     "output_type": "execute_result"
    }
   ],
   "source": [
    "df_pd_join = pd.merge(df_persons, df_pets, how=\"inner\", left_on='ID',right_on='Owner Id')\n",
    "pets_count = (df_pd_join.loc[df_pd_join['City'] == 'east port'])\n",
    "pets_count['ID'].count()"
   ]
  },
  {
   "cell_type": "markdown",
   "metadata": {},
   "source": [
    "__Answer__: What I found similar was both method are using the same joining method and achieve the same results"
   ]
  },
  {
   "cell_type": "code",
   "execution_count": null,
   "metadata": {},
   "outputs": [],
   "source": []
  }
 ],
 "metadata": {
  "kernelspec": {
   "display_name": "Python 3",
   "language": "python",
   "name": "python3"
  },
  "language_info": {
   "codemirror_mode": {
    "name": "ipython",
    "version": 3
   },
   "file_extension": ".py",
   "mimetype": "text/x-python",
   "name": "python",
   "nbconvert_exporter": "python",
   "pygments_lexer": "ipython3",
   "version": "3.8.8"
  }
 },
 "nbformat": 4,
 "nbformat_minor": 2
}
