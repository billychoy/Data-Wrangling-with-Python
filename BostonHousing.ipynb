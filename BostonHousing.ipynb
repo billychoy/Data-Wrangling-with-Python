{
 "cells": [
  {
   "cell_type": "markdown",
   "metadata": {},
   "source": [
    "# Assignment 1 - Pandas and Matplotlib (10 marks)"
   ]
  },
  {
   "cell_type": "markdown",
   "metadata": {},
   "source": [
    "## Part A\n",
    "---"
   ]
  },
  {
   "cell_type": "markdown",
   "metadata": {},
   "source": [
    "### Task 1 (0.5 mark)\n",
    "\n",
    "Load the Pandas and Numpy libraries. Then write Pandas code that creates a Dataframe from the dictionary and row labels given below:\n",
    "\n",
    "__exam_data__  = {'name': ['John', 'Jonathan', 'James', 'Katherine', 'Priti', 'Laura', 'Taqdeer', 'Ali', 'Jonas', 'Monas'],\n",
    "        'score': [12.5, 9, 16.5, np.nan, 9, 20, 14.5, np.nan, 8, 19],\n",
    "        'attempts': [1, 3, 2, 3, 2, 3, 1, 1, 2, 1],\n",
    "        'qualify': ['yes', 'no', 'yes', 'no', 'no', 'yes', 'yes', 'no', 'no', 'yes']}\n",
    "\n",
    "__labels__ = ['a', 'b', 'c', 'd', 'e', 'f', 'g', 'h', 'i', 'j']\n",
    "\n",
    "Also display the created Dataframe."
   ]
  },
  {
   "cell_type": "code",
   "execution_count": 13,
   "metadata": {},
   "outputs": [
    {
     "name": "stdout",
     "output_type": "stream",
     "text": [
      "        name  score  attempts qualify\n",
      "a       John   12.5         1     yes\n",
      "b   Jonathan    9.0         3      no\n",
      "c      James   16.5         2     yes\n",
      "d  Katherine    NaN         3      no\n",
      "e      Priti    9.0         2      no\n",
      "f      Laura   20.0         3     yes\n",
      "g    Taqdeer   14.5         1     yes\n",
      "h        Ali    NaN         1      no\n",
      "i      Jonas    8.0         2      no\n",
      "j      Monas   19.0         1     yes\n"
     ]
    }
   ],
   "source": [
    "### Write your code below this comment.\n",
    "import pandas as pd\n",
    "import numpy as np\n",
    "\n",
    "exam_data  =  {'name': ['John', 'Jonathan', 'James', 'Katherine', 'Priti', 'Laura', 'Taqdeer', 'Ali', 'Jonas', 'Monas'], \n",
    "               'score': [12.5, 9, 16.5, np.nan, 9, 20, 14.5, np.nan, 8, 19], \n",
    "               'attempts': [1, 3, 2, 3, 2, 3, 1, 1, 2, 1], \n",
    "               'qualify': ['yes', 'no', 'yes', 'no', 'no', 'yes', 'yes', 'no', 'no', 'yes']}\n",
    "\n",
    "labels = ['a', 'b', 'c', 'd', 'e', 'f', 'g', 'h', 'i', 'j']\n",
    "\n",
    "#Define Dataframe with exam_data as content, index as labels.\n",
    "df = pd.DataFrame(exam_data , index=labels)\n",
    "\n",
    "print(df)"
   ]
  },
  {
   "cell_type": "markdown",
   "metadata": {},
   "source": [
    "### Task 2 (0.5 mark)\n",
    "\n",
    "From the Dataframe created in Task 1 above, go ahead and select the rows where the score is missing. Also report the indices where the score is missing."
   ]
  },
  {
   "cell_type": "code",
   "execution_count": 14,
   "metadata": {},
   "outputs": [
    {
     "data": {
      "text/html": [
       "<div>\n",
       "<style scoped>\n",
       "    .dataframe tbody tr th:only-of-type {\n",
       "        vertical-align: middle;\n",
       "    }\n",
       "\n",
       "    .dataframe tbody tr th {\n",
       "        vertical-align: top;\n",
       "    }\n",
       "\n",
       "    .dataframe thead th {\n",
       "        text-align: right;\n",
       "    }\n",
       "</style>\n",
       "<table border=\"1\" class=\"dataframe\">\n",
       "  <thead>\n",
       "    <tr style=\"text-align: right;\">\n",
       "      <th></th>\n",
       "      <th>name</th>\n",
       "      <th>score</th>\n",
       "      <th>attempts</th>\n",
       "      <th>qualify</th>\n",
       "    </tr>\n",
       "  </thead>\n",
       "  <tbody>\n",
       "    <tr>\n",
       "      <th>d</th>\n",
       "      <td>Katherine</td>\n",
       "      <td>NaN</td>\n",
       "      <td>3</td>\n",
       "      <td>no</td>\n",
       "    </tr>\n",
       "    <tr>\n",
       "      <th>h</th>\n",
       "      <td>Ali</td>\n",
       "      <td>NaN</td>\n",
       "      <td>1</td>\n",
       "      <td>no</td>\n",
       "    </tr>\n",
       "  </tbody>\n",
       "</table>\n",
       "</div>"
      ],
      "text/plain": [
       "        name  score  attempts qualify\n",
       "d  Katherine    NaN         3      no\n",
       "h        Ali    NaN         1      no"
      ]
     },
     "execution_count": 14,
     "metadata": {},
     "output_type": "execute_result"
    }
   ],
   "source": [
    "### Write your code below this comment.\n",
    "# Apply isnull function on data frame - score\n",
    "df[df['score'].isnull()]"
   ]
  },
  {
   "cell_type": "markdown",
   "metadata": {},
   "source": [
    "### Task 3 (0.5 mark)\n",
    "\n",
    "Using the same Dataframe as in Task 1, append a new row 'k' to DataFrame with the values ['Suresh', 15.5, 1, 'yes']. Print the Dataframe both before and after appending the new row."
   ]
  },
  {
   "cell_type": "code",
   "execution_count": 15,
   "metadata": {},
   "outputs": [
    {
     "name": "stdout",
     "output_type": "stream",
     "text": [
      " ---- ----Original Dataset ---- ----\n",
      "        name  score  attempts qualify\n",
      "a       John   12.5         1     yes\n",
      "b   Jonathan    9.0         3      no\n",
      "c      James   16.5         2     yes\n",
      "d  Katherine    NaN         3      no\n",
      "e      Priti    9.0         2      no\n",
      "f      Laura   20.0         3     yes\n",
      "g    Taqdeer   14.5         1     yes\n",
      "h        Ali    NaN         1      no\n",
      "i      Jonas    8.0         2      no\n",
      "j      Monas   19.0         1     yes\n",
      "\n",
      "Add New Row into Dataset:\n",
      "        name  score  attempts qualify\n",
      "a       John   12.5         1     yes\n",
      "b   Jonathan    9.0         3      no\n",
      "c      James   16.5         2     yes\n",
      "d  Katherine    NaN         3      no\n",
      "e      Priti    9.0         2      no\n",
      "f      Laura   20.0         3     yes\n",
      "g    Taqdeer   14.5         1     yes\n",
      "h        Ali    NaN         1      no\n",
      "i      Jonas    8.0         2      no\n",
      "j      Monas   19.0         1     yes\n",
      "k     Suresh   15.5         1     yes\n"
     ]
    }
   ],
   "source": [
    "### Write your code below this comment.\n",
    "print(\" ---- ----Original Dataset ---- ----\")\n",
    "print(df)\n",
    "print(\"\\nAdd New Row into Dataset:\")\n",
    "df.loc['k'] = ['Suresh', 15.5, 1, 'yes']\n",
    "\n",
    "print(df)"
   ]
  },
  {
   "cell_type": "markdown",
   "metadata": {},
   "source": [
    "### Task 4 (0.5 mark)\n",
    "\n",
    "From the modified Dataframe in Task 3 above, now go ahead and delete the newly added row ['Suresh', 15.5, 1, 'yes']. Also display the resulting Dataframe which would now be the same as the original Dataframe you began with."
   ]
  },
  {
   "cell_type": "code",
   "execution_count": 16,
   "metadata": {},
   "outputs": [
    {
     "name": "stdout",
     "output_type": "stream",
     "text": [
      " ---- ---- Dataset with index K---- ----\n",
      "        name  score  attempts qualify\n",
      "a       John   12.5         1     yes\n",
      "b   Jonathan    9.0         3      no\n",
      "c      James   16.5         2     yes\n",
      "d  Katherine    NaN         3      no\n",
      "e      Priti    9.0         2      no\n",
      "f      Laura   20.0         3     yes\n",
      "g    Taqdeer   14.5         1     yes\n",
      "h        Ali    NaN         1      no\n",
      "i      Jonas    8.0         2      no\n",
      "j      Monas   19.0         1     yes\n",
      "k     Suresh   15.5         1     yes\n",
      "\n",
      "Delete row with index k\n",
      " ---- ----Original Dataset ---- ----\n",
      "        name  score  attempts qualify\n",
      "a       John   12.5         1     yes\n",
      "b   Jonathan    9.0         3      no\n",
      "c      James   16.5         2     yes\n",
      "d  Katherine    NaN         3      no\n",
      "e      Priti    9.0         2      no\n",
      "f      Laura   20.0         3     yes\n",
      "g    Taqdeer   14.5         1     yes\n",
      "h        Ali    NaN         1      no\n",
      "i      Jonas    8.0         2      no\n",
      "j      Monas   19.0         1     yes\n"
     ]
    }
   ],
   "source": [
    "### Write your code below this comment.\n",
    "print(\" ---- ---- Dataset with index K---- ----\")\n",
    "print(df)\n",
    "print(\"\\nDelete row with index k\")\n",
    "df = df.drop('k')\n",
    "\n",
    "print(\" ---- ----Original Dataset ---- ----\")\n",
    "print(df)"
   ]
  },
  {
   "cell_type": "markdown",
   "metadata": {},
   "source": [
    "### Task 5 (0.5 mark)\n",
    "\n",
    "Using the same Dataframe as in Task 1, replace the values 'yes' and 'no' in the 'qualify' column with Boolean values True and False respectively."
   ]
  },
  {
   "cell_type": "code",
   "execution_count": 17,
   "metadata": {},
   "outputs": [
    {
     "name": "stdout",
     "output_type": "stream",
     "text": [
      " ---- ----Original Dataset ---- ----\n",
      "        name  score  attempts qualify\n",
      "a       John   12.5         1     yes\n",
      "b   Jonathan    9.0         3      no\n",
      "c      James   16.5         2     yes\n",
      "d  Katherine    NaN         3      no\n",
      "e      Priti    9.0         2      no\n",
      "f      Laura   20.0         3     yes\n",
      "g    Taqdeer   14.5         1     yes\n",
      "h        Ali    NaN         1      no\n",
      "i      Jonas    8.0         2      no\n",
      "j      Monas   19.0         1     yes\n",
      "\n",
      "Replace 'yes'/'no' value with True/ False in Qulify column:\n",
      " ---- ----Display Dataset ---- ----\n",
      "        name  score  attempts  qualify\n",
      "a       John   12.5         1     True\n",
      "b   Jonathan    9.0         3    False\n",
      "c      James   16.5         2     True\n",
      "d  Katherine    NaN         3    False\n",
      "e      Priti    9.0         2    False\n",
      "f      Laura   20.0         3     True\n",
      "g    Taqdeer   14.5         1     True\n",
      "h        Ali    NaN         1    False\n",
      "i      Jonas    8.0         2    False\n",
      "j      Monas   19.0         1     True\n"
     ]
    }
   ],
   "source": [
    "### Write your code below this comment.\n",
    "print(\" ---- ----Original Dataset ---- ----\")\n",
    "print(df)\n",
    "\n",
    "print(\"\\nReplace 'yes'/'no' value with True/ False in Qulify column:\")\n",
    "df['qualify'] = df['qualify'].map({'yes': True, 'no': False})\n",
    "print(\" ---- ----Display Dataset ---- ----\")\n",
    "print(df)"
   ]
  },
  {
   "cell_type": "markdown",
   "metadata": {},
   "source": [
    "## PART B\n",
    "---"
   ]
  },
  {
   "cell_type": "markdown",
   "metadata": {},
   "source": [
    "In this part, you will work with the **Boston Housing Price dataset**. The Boston house-price data has been used in many machine learning papers that address regression problems. You will read the data from a CSV file into a Pandas DataFrame and do some basic data wrangling with it.\n",
    "\n",
    "Following are the details of the attributes of this dataset for your reference. You may have to refer to them while answering question on this activity.\n",
    "\n",
    "* **CRIM**: per capita crime rate by town\n",
    "* **ZN**: proportion of residential land zoned for lots over 25,000 sq.ft.\n",
    "* **INDUS**: proportion of non-retail business acres per town\n",
    "* **CHAS**: Charles River dummy variable (= 1 if tract bounds river; 0 otherwise)\n",
    "* **NOX**: nitric oxides concentration (parts per 10 million)\n",
    "* **RM**: average number of rooms per dwelling\n",
    "* **AGE**: proportion of owner-occupied units built prior to 1940\n",
    "* **DIS**: weighted distances to five Boston employment centres\n",
    "* **RAD**: index of accessibility to radial highways\n",
    "* **TAX**: full-value property-tax rate per 10,000 dollars\n",
    "* **PTRATIO**: pupil-teacher ratio by town\n",
    "* **B**: 1000(Bk - 0.63)^2 where Bk is the proportion of blacks by town\n",
    "* **LSTAT**: % of lower status of the population\n",
    "* **PRICE**: Median value of owner-occupied homes in $1000's"
   ]
  },
  {
   "cell_type": "markdown",
   "metadata": {},
   "source": [
    "### Task 6 (0.25 mark)\n",
    "\n",
    "Load the Matplotlib library."
   ]
  },
  {
   "cell_type": "code",
   "execution_count": 18,
   "metadata": {},
   "outputs": [],
   "source": [
    "### Write your code below this comment.\n",
    "import matplotlib.pyplot as plt"
   ]
  },
  {
   "cell_type": "markdown",
   "metadata": {},
   "source": [
    "### Task 7 (0.5 mark)\n",
    "\n",
    "Read in the Boston housing data set (given as a .csv file) from the local __data__ directory into the Dataframe __df__. Then create a smaller DataFrame from __df__ that does not include the columns `CHAS`, `NOX`, `B`, and `LSTAT` and save it as __df1__."
   ]
  },
  {
   "cell_type": "code",
   "execution_count": 19,
   "metadata": {},
   "outputs": [
    {
     "name": "stdout",
     "output_type": "stream",
     "text": [
      " ---- ----Display Original Dataset ---- ----\n",
      "        CRIM    ZN  INDUS  CHAS    NOX     RM   AGE     DIS  RAD  TAX  \\\n",
      "0    0.00632  18.0   2.31     0  0.538  6.575  65.2  4.0900    1  296   \n",
      "1    0.02731   0.0   7.07     0  0.469  6.421  78.9  4.9671    2  242   \n",
      "2    0.02729   0.0   7.07     0  0.469  7.185  61.1  4.9671    2  242   \n",
      "3    0.03237   0.0   2.18     0  0.458  6.998  45.8  6.0622    3  222   \n",
      "4    0.06905   0.0   2.18     0  0.458  7.147  54.2  6.0622    3  222   \n",
      "..       ...   ...    ...   ...    ...    ...   ...     ...  ...  ...   \n",
      "501  0.06263   0.0  11.93     0  0.573  6.593  69.1  2.4786    1  273   \n",
      "502  0.04527   0.0  11.93     0  0.573  6.120  76.7  2.2875    1  273   \n",
      "503  0.06076   0.0  11.93     0  0.573  6.976  91.0  2.1675    1  273   \n",
      "504  0.10959   0.0  11.93     0  0.573  6.794  89.3  2.3889    1  273   \n",
      "505  0.04741   0.0  11.93     0  0.573  6.030  80.8  2.5050    1  273   \n",
      "\n",
      "     PTRATIO       B  LSTAT  PRICE  \n",
      "0       15.3  396.90   4.98   24.0  \n",
      "1       17.8  396.90   9.14   21.6  \n",
      "2       17.8  392.83   4.03   34.7  \n",
      "3       18.7  394.63   2.94   33.4  \n",
      "4       18.7  396.90   5.33   36.2  \n",
      "..       ...     ...    ...    ...  \n",
      "501     21.0  391.99   9.67   22.4  \n",
      "502     21.0  396.90   9.08   20.6  \n",
      "503     21.0  396.90   5.64   23.9  \n",
      "504     21.0  393.45   6.48   22.0  \n",
      "505     21.0  396.90   7.88   11.9  \n",
      "\n",
      "[506 rows x 14 columns]\n",
      " ---- ----Display data subset ---- ----\n",
      "        CRIM    ZN  INDUS     RM   AGE     DIS  RAD  TAX  PTRATIO  PRICE\n",
      "0    0.00632  18.0   2.31  6.575  65.2  4.0900    1  296     15.3   24.0\n",
      "1    0.02731   0.0   7.07  6.421  78.9  4.9671    2  242     17.8   21.6\n",
      "2    0.02729   0.0   7.07  7.185  61.1  4.9671    2  242     17.8   34.7\n",
      "3    0.03237   0.0   2.18  6.998  45.8  6.0622    3  222     18.7   33.4\n",
      "4    0.06905   0.0   2.18  7.147  54.2  6.0622    3  222     18.7   36.2\n",
      "..       ...   ...    ...    ...   ...     ...  ...  ...      ...    ...\n",
      "501  0.06263   0.0  11.93  6.593  69.1  2.4786    1  273     21.0   22.4\n",
      "502  0.04527   0.0  11.93  6.120  76.7  2.2875    1  273     21.0   20.6\n",
      "503  0.06076   0.0  11.93  6.976  91.0  2.1675    1  273     21.0   23.9\n",
      "504  0.10959   0.0  11.93  6.794  89.3  2.3889    1  273     21.0   22.0\n",
      "505  0.04741   0.0  11.93  6.030  80.8  2.5050    1  273     21.0   11.9\n",
      "\n",
      "[506 rows x 10 columns]\n"
     ]
    }
   ],
   "source": [
    "### Write your code below this comment.\n",
    "import pandas as pd \n",
    " \n",
    "# creating a data frame \n",
    "df = pd.read_csv(\"data\\Boston_housing.csv\") \n",
    " \n",
    "#Display dataframe\n",
    "print(\" ---- ----Display Original Dataset ---- ----\")\n",
    "print(df)\n",
    "\n",
    "# Use drop function to drop specific column in original dataset, by column axis; {0 or ‘index’, 1 or ‘columns’}, default 0\n",
    "df1 = df.drop(['CHAS','NOX','B','LSTAT'], axis=1)\n",
    "#Display dataframe\n",
    "print(\" ---- ----Display data subset ---- ----\")\n",
    "print(df1)"
   ]
  },
  {
   "cell_type": "markdown",
   "metadata": {},
   "source": [
    "### Task 8 (2 marks)\n",
    "\n",
    "Can you plot histograms for all the variables (columns) in the new DataFrame __df1__? You can of course plot them one by one. But try to write a short code snippet in a single cell to plot all of them at once. The histogram should have 20 bins and the grid should be visible on the plot. Also show each plot with its unique title i.e. of the variable that it is a plot of. For example, __Plot of CRIM__, __Plot of ZN__ etc (a snapshot of the first two columns is shown below).\n",
    "\n",
    "<u>Hint:</u> For loop!"
   ]
  },
  {
   "cell_type": "markdown",
   "metadata": {
    "slideshow": {
     "slide_type": "fragment"
    }
   },
   "source": [
    "<img align=\"left\" src=\"images/task8.png\" height=\"400\" width=\"400\">"
   ]
  },
  {
   "cell_type": "code",
   "execution_count": 20,
   "metadata": {},
   "outputs": [
    {
     "data": {
      "image/png": "[encoded data removed]",
      "text/plain": [
       "<Figure size 432x288 with 1 Axes>"
      ]
     },
     "metadata": {
      "needs_background": "light"
     },
     "output_type": "display_data"
    },
    {
     "data": {
      "image/png": "[encoded data removed]",
      "text/plain": [
       "<Figure size 432x288 with 1 Axes>"
      ]
     },
     "metadata": {
      "needs_background": "light"
     },
     "output_type": "display_data"
    },
    {
     "data": {
      "image/png": "[encoded data removed]",
      "text/plain": [
       "<Figure size 432x288 with 1 Axes>"
      ]
     },
     "metadata": {
      "needs_background": "light"
     },
     "output_type": "display_data"
    },
    {
     "data": {
      "image/png": "[encoded data removed]",
      "text/plain": [
       "<Figure size 432x288 with 1 Axes>"
      ]
     },
     "metadata": {
      "needs_background": "light"
     },
     "output_type": "display_data"
    },
    {
     "data": {
      "image/png": "[encoded data removed]",
      "text/plain": [
       "<Figure size 432x288 with 1 Axes>"
      ]
     },
     "metadata": {
      "needs_background": "light"
     },
     "output_type": "display_data"
    },
    {
     "data": {
      "image/png": "[encoded data removed]",
      "text/plain": [
       "<Figure size 432x288 with 1 Axes>"
      ]
     },
     "metadata": {
      "needs_background": "light"
     },
     "output_type": "display_data"
    },
    {
     "data": {
      "image/png": "[encoded data removed]",
      "text/plain": [
       "<Figure size 432x288 with 1 Axes>"
      ]
     },
     "metadata": {
      "needs_background": "light"
     },
     "output_type": "display_data"
    },
    {
     "data": {
      "image/png": "[encoded data removed]",
      "text/plain": [
       "<Figure size 432x288 with 1 Axes>"
      ]
     },
     "metadata": {
      "needs_background": "light"
     },
     "output_type": "display_data"
    },
    {
     "data": {
      "image/png": "[encoded data removed]",
      "text/plain": [
       "<Figure size 432x288 with 1 Axes>"
      ]
     },
     "metadata": {
      "needs_background": "light"
     },
     "output_type": "display_data"
    },
    {
     "data": {
      "image/png": "[encoded data removed]",
      "text/plain": [
       "<Figure size 432x288 with 1 Axes>"
      ]
     },
     "metadata": {
      "needs_background": "light"
     },
     "output_type": "display_data"
    }
   ],
   "source": [
    "### Write your code below this comment.\n",
    "# Create for loop in DF1 columns, display histogram per column with title and grid line\n",
    "import matplotlib.pyplot as plt\n",
    "\n",
    "for i in df1.columns: \n",
    "    plt.title(\"Plot of \"+i,fontsize=15) \n",
    "    plt.hist(df1[i], bins=20) \n",
    "    plt.grid()\n",
    "    plt.show()"
   ]
  },
  {
   "cell_type": "markdown",
   "metadata": {},
   "source": [
    "### Task 9 (1 mark)\n",
    "\n",
    "Crime rate could be an indicator of house price (people don't want to live in high-crime areas). Create a scatter plot of Crime rate vs Price."
   ]
  },
  {
   "cell_type": "code",
   "execution_count": 21,
   "metadata": {},
   "outputs": [
    {
     "data": {
      "image/png": "[encoded data removed]",
      "text/plain": [
       "<Figure size 432x288 with 1 Axes>"
      ]
     },
     "metadata": {
      "needs_background": "light"
     },
     "output_type": "display_data"
    }
   ],
   "source": [
    "### Write your code below this comment.\n",
    "#Plot scatter plot with Age vs Weight, plus title and label\n",
    "df.plot.scatter(x='PRICE', y='CRIM', title=\"Price vs Crime Rate\", # Setting the title\n",
    "                xlabel='Price', # Labeling X Axis\n",
    "                ylabel='Crime Rate'); # Labeling Y Axis"
   ]
  },
  {
   "cell_type": "markdown",
   "metadata": {},
   "source": [
    "### Task 10 (2 marks)\n",
    "\n",
    "We can understand the relationship better if we plot _log10(Crime)_ vs. _Price_. Create that plot and make it nice. Give proper title, x-axis, y-axis label, make data points a color of your choice, etc. The plot should look similar to the snapshot below.\n",
    "\n",
    "<u>Hint:</u> Try `np.log10` function"
   ]
  },
  {
   "cell_type": "markdown",
   "metadata": {
    "slideshow": {
     "slide_type": "fragment"
    }
   },
   "source": [
    "<img align=\"left\" src=\"images/task10.png\" height=\"400\" width=\"400\">"
   ]
  },
  {
   "cell_type": "code",
   "execution_count": 22,
   "metadata": {},
   "outputs": [
    {
     "data": {
      "image/png": "[encoded data removed]",
      "text/plain": [
       "<Figure size 432x288 with 1 Axes>"
      ]
     },
     "metadata": {
      "needs_background": "light"
     },
     "output_type": "display_data"
    }
   ],
   "source": [
    "### Write your code below this comment. \n",
    "#Apply log10 onto CRIM column\n",
    "df['CRIM'] = np.log10(df['CRIM'])\n",
    "\n",
    "#Plot graph after apply log 10 no CRIM\n",
    "df.plot.scatter(x='CRIM', y='PRICE', c=\"green\"); # Labeling Y Axis plt.scatter(x,y,c=\"red\")\n",
    "plt.ylabel(\"Price\")\n",
    "plt.xlabel(\"Crime Rate (Log Transformed)\")\n",
    "plt.title(\"Crime Rate (Log) vs. Price plot\")\n",
    "plt.show()"
   ]
  },
  {
   "cell_type": "markdown",
   "metadata": {},
   "source": [
    "### Task 11 (0.25 mark)\n",
    "\n",
    "Can you calculate the mean rooms per dwelling?"
   ]
  },
  {
   "cell_type": "code",
   "execution_count": 23,
   "metadata": {},
   "outputs": [
    {
     "data": {
      "text/plain": [
       "6.284634387351787"
      ]
     },
     "execution_count": 23,
     "metadata": {},
     "output_type": "execute_result"
    }
   ],
   "source": [
    "### Write your code below this comment.\n",
    "# Mean value of Data frame Room per dwelling column\n",
    "df['RM'].mean()"
   ]
  },
  {
   "cell_type": "markdown",
   "metadata": {},
   "source": [
    "### Task 12 (0.25 mark)\n",
    "\n",
    "Can you calculate median Age?"
   ]
  },
  {
   "cell_type": "code",
   "execution_count": 24,
   "metadata": {},
   "outputs": [
    {
     "data": {
      "text/plain": [
       "77.5"
      ]
     },
     "execution_count": 24,
     "metadata": {},
     "output_type": "execute_result"
    }
   ],
   "source": [
    "### Write your code below this comment.\n",
    "df['AGE'].median()"
   ]
  },
  {
   "cell_type": "markdown",
   "metadata": {},
   "source": [
    "### Task 13 (0.25 mark)\n",
    "\n",
    "Can you calculate average (mean) distances to five Boston employment centres?"
   ]
  },
  {
   "cell_type": "code",
   "execution_count": 25,
   "metadata": {},
   "outputs": [
    {
     "data": {
      "text/plain": [
       "3.795042687747034"
      ]
     },
     "execution_count": 25,
     "metadata": {},
     "output_type": "execute_result"
    }
   ],
   "source": [
    "### Write your code below this comment.\n",
    "df['DIS'].mean()"
   ]
  },
  {
   "cell_type": "markdown",
   "metadata": {},
   "source": [
    "### Task 14 (1 mark)\n",
    "\n",
    "Can you calculate the percentage of houses with low price (< $20,000)?"
   ]
  },
  {
   "cell_type": "code",
   "execution_count": 26,
   "metadata": {},
   "outputs": [
    {
     "name": "stdout",
     "output_type": "stream",
     "text": [
      "PRICE    41.501976\n",
      "dtype: float64\n"
     ]
    }
   ],
   "source": [
    "### Write your code below this comment.\n",
    "# Select Price column from origial dataset\n",
    "dfSelect = df.loc[:,['PRICE']]\n",
    "\n",
    "#Define count and price less than 20k in variables\n",
    "nPrice = dfSelect['PRICE'].count()\n",
    "nPriceless20k = dfSelect[dfSelect['PRICE'] < 20].count()\n",
    "\n",
    "# Calculate the percentage\n",
    "percent = (nPriceless20k / nPrice )*100\n",
    "\n",
    "print(percent)"
   ]
  }
 ],
 "metadata": {
  "kernelspec": {
   "display_name": "Python 3",
   "language": "python",
   "name": "python3"
  },
  "language_info": {
   "codemirror_mode": {
    "name": "ipython",
    "version": 3
   },
   "file_extension": ".py",
   "mimetype": "text/x-python",
   "name": "python",
   "nbconvert_exporter": "python",
   "pygments_lexer": "ipython3",
   "version": "3.8.8"
  },
  "latex_envs": {
   "LaTeX_envs_menu_present": true,
   "autoclose": false,
   "autocomplete": true,
   "bibliofile": "biblio.bib",
   "cite_by": "apalike",
   "current_citInitial": 1,
   "eqLabelWithNumbers": true,
   "eqNumInitial": 1,
   "hotkeys": {
    "equation": "Ctrl-E",
    "itemize": "Ctrl-I"
   },
   "labels_anchors": false,
   "latex_user_defs": false,
   "report_style_numbering": false,
   "user_envs_cfg": false
  }
 },
 "nbformat": 4,
 "nbformat_minor": 2
}
