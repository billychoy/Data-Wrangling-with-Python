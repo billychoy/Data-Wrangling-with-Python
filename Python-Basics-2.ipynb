{
 "cells": [
  {
   "cell_type": "markdown",
   "metadata": {},
   "source": [
    "\n",
    "\n",
    "# Assignment 2 - Python Basics\n",
    "\n",
    "\n",
    "\n"
   ]
  },
  {
   "cell_type": "markdown",
   "metadata": {},
   "source": [
    "### A note for this assignment\n",
    "\n",
    "Submit this notebook with your answers included below each question.\n",
    "\n",
    "\n",
    "| Exercise | Point |\n",
    "| --- | --- |\n",
    "| 1 | 10 |\n",
    "| 2 | 10 |\n",
    "| 3 | 10 |\n",
    "| 4 | 10 |\n",
    "| 5 | 15 |\n",
    "| 6 | 15 |\n",
    "| 7 | 10 |\n",
    "| 8 | 20 |\n",
    "| **Total** | **100** |\n"
   ]
  },
  {
   "cell_type": "markdown",
   "metadata": {},
   "source": [
    "### Exercise 1"
   ]
  },
  {
   "cell_type": "markdown",
   "metadata": {},
   "source": [
    "- Why do we need to use functions in python?\n",
    "- What is the diffrence between positional argument and keyword argument in python?"
   ]
  },
  {
   "cell_type": "markdown",
   "metadata": {},
   "source": [
    "The reason why the function is needed in python is that:\n",
    "    1. it can create reusable code and return the value into a global variable for other manipulation.\n",
    "    2. it can avoid repeating coding everywhere and provide a central point of changes whenever required.\n",
    "\n",
    "Positional Argument: is an argument called by the position defined in the function definition.\n",
    "\n",
    "Keyword Argument: is an argument called by the defined name."
   ]
  },
  {
   "cell_type": "markdown",
   "metadata": {},
   "source": [
    "### Exercise 2"
   ]
  },
  {
   "cell_type": "markdown",
   "metadata": {},
   "source": [
    "**Create a function that grabs the name of the person and returns a greeting message as below. Please ensure the name of the person is capitalized. Provide one test case for your function.**\n",
    "\n",
    "```\n",
    "For example, passing \"Nasim\" or \"nasim\" would return:\n",
    "\n",
    "`\"Hello NASIM, Welcome to Canada!\"`\n",
    "```"
   ]
  },
  {
   "cell_type": "code",
   "execution_count": 12,
   "metadata": {},
   "outputs": [
    {
     "name": "stdout",
     "output_type": "stream",
     "text": [
      "Hello BILLY , Welcome to Canada!\n",
      "Hello BILLY , Welcome to Canada!\n"
     ]
    },
    {
     "data": {
      "text/plain": [
       "'BILLY'"
      ]
     },
     "execution_count": 12,
     "metadata": {},
     "output_type": "execute_result"
    }
   ],
   "source": [
    "# Define a welcome function, support string input \n",
    "def welcome(name):  \n",
    "    # Print out Hello + upper input + welcom to canada as one sentense. \n",
    "    nameUp = name.upper()\n",
    "    print ('Hello', name.upper(), ', Welcome to Canada!')\n",
    "    return (name.upper())\n",
    "\n",
    "##Edge case test with Billy\n",
    "\n",
    "#Call welcome function with Edge Case\n",
    "welcome(\"Billy\")\n",
    "\n",
    "#Call welcome function with Edge Case\n",
    "welcome(\"bilLy\")"
   ]
  },
  {
   "cell_type": "markdown",
   "metadata": {},
   "source": [
    "### Exercise 3\n"
   ]
  },
  {
   "cell_type": "markdown",
   "metadata": {},
   "source": [
    "**Create a basic function that returns True if the word 'cat' is contained in the input string. Don't worry about edge cases like a punctuation being attached to the word cat, but do account for capitalization. Provide one test case for your function.**"
   ]
  },
  {
   "cell_type": "code",
   "execution_count": 8,
   "metadata": {},
   "outputs": [
    {
     "name": "stdout",
     "output_type": "stream",
     "text": [
      "True - The word is contain \"cat\". \n"
     ]
    },
    {
     "data": {
      "text/plain": [
       "True"
      ]
     },
     "execution_count": 8,
     "metadata": {},
     "output_type": "execute_result"
    }
   ],
   "source": [
    "# Define a check string function to check inputstring whether contain 'cat'\n",
    "def chkStr(inStr):\n",
    "    # To handle the case sensitive, upper the input string and check whether 'CAT' is contained\n",
    "    if 'CAT' in inStr.upper():\n",
    "        # Return this statement if the result is positive\n",
    "        print('True - The word is contain \"cat\". ')\n",
    "        return(True)\n",
    "    else:\n",
    "        # Return this statement if the result is negative\n",
    "        print('False - The word does ont contain \"cat\". ')\n",
    "        return(False)\n",
    "\n",
    "##Call check string function on variable - str A\n",
    "chkStr(\"This belongs to category A\")"
   ]
  },
  {
   "cell_type": "code",
   "execution_count": 9,
   "metadata": {},
   "outputs": [
    {
     "name": "stdout",
     "output_type": "stream",
     "text": [
      "False - The word does ont contain \"cat\". \n"
     ]
    },
    {
     "data": {
      "text/plain": [
       "False"
      ]
     },
     "execution_count": 9,
     "metadata": {},
     "output_type": "execute_result"
    }
   ],
   "source": [
    "##Call check string function on variable - StrB\n",
    "chkStr(\"This is my python class\")"
   ]
  },
  {
   "cell_type": "markdown",
   "metadata": {},
   "source": [
    "### Exercise 4"
   ]
  },
  {
   "cell_type": "markdown",
   "metadata": {},
   "source": [
    "**Create a function that counts the number of times the word \"python\" occurs in a string. Again ignore edge cases. Provide one test case for your funciton.**"
   ]
  },
  {
   "cell_type": "code",
   "execution_count": 13,
   "metadata": {},
   "outputs": [
    {
     "name": "stdout",
     "output_type": "stream",
     "text": [
      "The word python is appeared 1 times.\n"
     ]
    },
    {
     "data": {
      "text/plain": [
       "1"
      ]
     },
     "execution_count": 13,
     "metadata": {},
     "output_type": "execute_result"
    }
   ],
   "source": [
    "#Define check word count function that handle word python appeared on input string.\n",
    "def ChkCnt(inStr):\n",
    "    #Convert the input string to upper case.\n",
    "    inStrUp = inStr.upper()\n",
    "    #Creat variable cntAppearance to count the word 'python' appear in a input string. \n",
    "    cntAppearance = inStrUp.count(\"PYTHON\")\n",
    "    #Print the statement together with the cntAppearance variable.\n",
    "    print('The word python is appeared', cntAppearance, 'times.' )\n",
    "    return (cntAppearance)\n",
    "\n",
    "#Check word count on sentenseA\n",
    "ChkCnt(\"I learn python in CPSC\")"
   ]
  },
  {
   "cell_type": "code",
   "execution_count": 14,
   "metadata": {},
   "outputs": [
    {
     "name": "stdout",
     "output_type": "stream",
     "text": [
      "The word python is appeared 3 times.\n"
     ]
    },
    {
     "data": {
      "text/plain": [
       "3"
      ]
     },
     "execution_count": 14,
     "metadata": {},
     "output_type": "execute_result"
    }
   ],
   "source": [
    "#Check word count on sentense B\n",
    "ChkCnt(\"There are material on website, as Python Installation, PYTHON lab materials and python notebook for trial.\")"
   ]
  },
  {
   "cell_type": "markdown",
   "metadata": {},
   "source": [
    "### Exercise 5"
   ]
  },
  {
   "cell_type": "markdown",
   "metadata": {},
   "source": [
    "**You are driving a little too fast, and a police officer stops you. Write a function\n",
    "  to return one of 3 possible results: \"No ticket\", \"Small ticket\", or \"Big Ticket\". \n",
    "  If your speed is 60 or less, the result is \"No Ticket\". If speed is between 61 \n",
    "  and 80 inclusive, the result is \"Small Ticket\". If speed is 81 or more, the result is \"Big    Ticket\". Unless it is your birthday (encoded as a boolean value in the parameters of the function) -- on your birthday, your speed can be 5 higher in all \n",
    "  cases.**"
   ]
  },
  {
   "cell_type": "code",
   "execution_count": 13,
   "metadata": {},
   "outputs": [
    {
     "name": "stdout",
     "output_type": "stream",
     "text": [
      "Today is your birthday, I will give you a 5 MPH discount as a buffer\n",
      "Your speed is 75 , your will get a Small Ticket\n"
     ]
    },
    {
     "data": {
      "text/plain": [
       "(5, 75)"
      ]
     },
     "execution_count": 13,
     "metadata": {},
     "output_type": "execute_result"
    }
   ],
   "source": [
    "# import datetime class\n",
    "import datetime\n",
    "\n",
    "#Define function with two input variables - Birthday and speed\n",
    "def bDayTicket(bDay, speed):\n",
    "    # Check input Birthday is equal to default one or not\n",
    "    if bDay == datetime.date (1990,1,10):\n",
    "        #if true, set spdBuffer = 5\n",
    "        spdBuffer = 5\n",
    "    else :\n",
    "        #if false, set spdBuffer = 0\n",
    "        spdBuffer = 0\n",
    "    \n",
    "    #Define the spdChk = input speed - buffer provided.\n",
    "    spdChk =speed - spdBuffer\n",
    "    \n",
    "    #If statement to define which ticket to be given\n",
    "    if spdChk > 80:\n",
    "        tktResult = \"a Big Ticket\"\n",
    "    elif spdChk > 61 and spdChk <= 80:\n",
    "        tktResult = \"a Small Ticket\" \n",
    "    else:\n",
    "        tktResult = \"No Ticket\"\n",
    "    \n",
    "    #if input date is equal to default birthday then print these text\n",
    "    if bDay == datetime.date (1990,1,10):\n",
    "        print('Today is your birthday, I will give you a', spdBuffer, 'MPH discount as a buffer')\n",
    "   \n",
    "    #Print out the statement\n",
    "    print('Your speed is', spdChk, ', your will get', tktResult)\n",
    "    return(spdBuffer, spdChk)\n",
    "     \n",
    "#Citizen A with birthday and speed at 80\n",
    "bDayTicket(datetime.date (1990,1,10), 80)"
   ]
  },
  {
   "cell_type": "code",
   "execution_count": 14,
   "metadata": {},
   "outputs": [
    {
     "name": "stdout",
     "output_type": "stream",
     "text": [
      "Your speed is 81 , your will get a Big Ticket\n"
     ]
    },
    {
     "data": {
      "text/plain": [
       "(0, 81)"
      ]
     },
     "execution_count": 14,
     "metadata": {},
     "output_type": "execute_result"
    }
   ],
   "source": [
    "#Citizen B with birthday and speed at 80\n",
    "bDayTicket(datetime.date (1992,1,10), 81)\n"
   ]
  },
  {
   "cell_type": "code",
   "execution_count": 15,
   "metadata": {},
   "outputs": [
    {
     "name": "stdout",
     "output_type": "stream",
     "text": [
      "Your speed is 60 , your will get No Ticket\n"
     ]
    },
    {
     "data": {
      "text/plain": [
       "(0, 60)"
      ]
     },
     "execution_count": 15,
     "metadata": {},
     "output_type": "execute_result"
    }
   ],
   "source": [
    "#Citizen C with birthday and speed at 80\n",
    "bDayTicket(datetime.date (1998,1,10), 60)"
   ]
  },
  {
   "cell_type": "markdown",
   "metadata": {},
   "source": [
    "### Exercise 6"
   ]
  },
  {
   "cell_type": "markdown",
   "metadata": {},
   "source": [
    "**Define a function that takes a number, returns True if the sum of the cubes of its digits is equal to the number itself, else returns False. For instance, passing the number 153 to your function should return True.**\n"
   ]
  },
  {
   "cell_type": "code",
   "execution_count": 32,
   "metadata": {},
   "outputs": [
    {
     "name": "stdout",
     "output_type": "stream",
     "text": [
      "True. Input Number - 153 is a ArmStrong number.\n"
     ]
    },
    {
     "data": {
      "text/plain": [
       "True"
      ]
     },
     "execution_count": 32,
     "metadata": {},
     "output_type": "execute_result"
    }
   ],
   "source": [
    "#Define check Armstrong Number with the input Number\n",
    "def chkArmNum(inNum): \n",
    "    #Assign variable chkNum = input Number to avoid logic mixed up\n",
    "    chkNum = inNum\n",
    "    #Define integer sum as 0\n",
    "    sum=0\n",
    "    \n",
    "    \n",
    "    while chkNum > 0:\n",
    "        # set digit = Modulus on check Number\n",
    "        digit = chkNum % 10\n",
    "        #sum = sum + digit to power of 3\n",
    "        sum += digit ** 3\n",
    "        # Floor division, only take the integer part\n",
    "        chkNum //= 10\n",
    "    \n",
    "    #if is it a armstrong number, return True \n",
    "    if inNum == sum:\n",
    "        print('True. Input Number -', inNum, 'is a ArmStrong number.')\n",
    "        return(True)\n",
    "    else:\n",
    "        print('False. Input Number -', inNum, 'is not a ArmStrong number.')\n",
    "        return(False)\n",
    "\n",
    "## Try function with number 153\n",
    "chkArmNum(153)"
   ]
  },
  {
   "cell_type": "code",
   "execution_count": 42,
   "metadata": {},
   "outputs": [
    {
     "name": "stdout",
     "output_type": "stream",
     "text": [
      "False. Input Number - 255 is not a ArmStrong number.\n"
     ]
    },
    {
     "data": {
      "text/plain": [
       "False"
      ]
     },
     "execution_count": 42,
     "metadata": {},
     "output_type": "execute_result"
    }
   ],
   "source": [
    "## Try function with number 255\n",
    "chkArmNum(255)"
   ]
  },
  {
   "cell_type": "markdown",
   "metadata": {},
   "source": [
    "### Exercise 7"
   ]
  },
  {
   "cell_type": "markdown",
   "metadata": {},
   "source": [
    "**Given the 3 lists below contained within list_1, write a nested loop to print out each item one at at time.**\n"
   ]
  },
  {
   "cell_type": "code",
   "execution_count": 1,
   "metadata": {},
   "outputs": [],
   "source": [
    "list_1 = [[\"Sam\", \"Sarah\", \"Darcy\"], [34, 32, 30], [\"Ontario\", \"Quebec\", \"British Columbia\"]]"
   ]
  },
  {
   "cell_type": "code",
   "execution_count": 46,
   "metadata": {},
   "outputs": [
    {
     "name": "stdout",
     "output_type": "stream",
     "text": [
      "Sam\n",
      "Sarah\n",
      "Darcy\n",
      "34\n",
      "32\n",
      "30\n",
      "Ontario\n",
      "Quebec\n",
      "British Columbia\n"
     ]
    },
    {
     "data": {
      "text/plain": [
       "'Complete'"
      ]
     },
     "execution_count": 46,
     "metadata": {},
     "output_type": "execute_result"
    }
   ],
   "source": [
    "# Define value in List_1\n",
    "list_1 = [[\"Sam\", \"Sarah\", \"Darcy\"], [34, 32, 30], [\"Ontario\", \"Quebec\", \"British Columbia\"]]\n",
    "\n",
    "def printList(inList):\n",
    "    #For loop the 1st list, with first elements to last element \n",
    "    for x in range(len(inList)):\n",
    "\n",
    "        #For loop the 2nd list in the 1st list, and print the context one by one.\n",
    "        for y in range(len(inList)):\n",
    "            print(inList[x][y])\n",
    "    return('Complete')\n",
    "            \n",
    "printList(list_1)"
   ]
  },
  {
   "cell_type": "markdown",
   "metadata": {},
   "source": [
    "### Exercise 8"
   ]
  },
  {
   "cell_type": "markdown",
   "metadata": {},
   "source": [
    "**Students in a class receive their grades as Pass/Fail. Scores of 60 or more (out of 100) mean that the grade is \"Pass\". For lower scores, the grade is \"Fail\". In addition, scores above 95 (not included) are graded as \"Top Score\". Write a function so that it returns the proper grade. Make sure to write the proper docstring.**"
   ]
  },
  {
   "cell_type": "markdown",
   "metadata": {},
   "source": [
    "Test out your function:\n",
    "```\n",
    "print(exam_grade(65))\n",
    "print(exam_grade(55)) \n",
    "print(exam_grade(60))\n",
    "print(exam_grade(95)) \n",
    "print(exam_grade(100)) \n",
    "print(exam_grade(0))\n",
    "```\n",
    "    "
   ]
  },
  {
   "cell_type": "code",
   "execution_count": 15,
   "metadata": {},
   "outputs": [
    {
     "name": "stdout",
     "output_type": "stream",
     "text": [
      "\n",
      "      If your grade is below 60, you are Fail\n",
      "      If your garde is 60 - 95, you are Pass\n",
      "      If your grade is 96 or above, you are Top score\n",
      "    \n",
      "('Your score is', 65, '. Your grade is Pass.')\n",
      "('Your score is', 55, '. Your grade is Fail.')\n",
      "('Your score is', 60, '. Your grade is Pass.')\n",
      "('Your score is', 95, '. Your grade is Pass.')\n",
      "('Your score is', 100, '. Your grade is Top score.')\n",
      "('Your score is', 0, '. Your grade is Fail.')\n"
     ]
    }
   ],
   "source": [
    "def exam_grade(score):\n",
    "    \"\"\"\n",
    "      If your grade is below 60, you are Fail\n",
    "      If your garde is 60 - 95, you are Pass\n",
    "      If your grade is 96 or above, you are Top score\n",
    "    \"\"\"\n",
    "    if score < 60:\n",
    "        grade = 'Your score is', score, '. Your grade is Fail.'\n",
    "    elif score >= 60: \n",
    "        grade = 'Your score is',score, '. Your grade is Pass.'\n",
    "        if score > 95:\n",
    "            grade = 'Your score is', score, '. Your grade is Top score.'\n",
    "    return (grade)\n",
    "            \n",
    "print(exam_grade.__doc__)\n",
    "print(exam_grade(65))\n",
    "print(exam_grade(55)) \n",
    "print(exam_grade(60))\n",
    "print(exam_grade(95)) \n",
    "print(exam_grade(100)) \n",
    "print(exam_grade(0))"
   ]
  },
  {
   "cell_type": "markdown",
   "metadata": {},
   "source": [
    "## Exercises 9 & 10 are optional, you don't need to solve them. They are advanced.\n"
   ]
  },
  {
   "cell_type": "markdown",
   "metadata": {},
   "source": [
    "### Exercise 9"
   ]
  },
  {
   "cell_type": "markdown",
   "metadata": {},
   "source": [
    "Define a function that takes a list of lists and returns a new list of lists with a student's name and their average grade in each sublist."
   ]
  },
  {
   "cell_type": "markdown",
   "metadata": {},
   "source": [
    "Example: \n",
    "```\n",
    "avergae_grade([['Alice', 60, 88, 44, 70], ['Joe', 44, 100, 80, 60, 50]])\n",
    "```\n",
    "\n",
    "Exepected output:\n",
    "```\n",
    "[['Alice', 65.5], ['Joe', 66.8]]\n",
    "```"
   ]
  },
  {
   "cell_type": "code",
   "execution_count": 48,
   "metadata": {},
   "outputs": [
    {
     "data": {
      "text/plain": [
       "True"
      ]
     },
     "execution_count": 48,
     "metadata": {},
     "output_type": "execute_result"
    }
   ],
   "source": [
    "listA= [['Alice', 60, 88, 44, 70], ['Joe', 44, 100, 80, 60, 50]]\n",
    " \n",
    "isinstance(listA[0][0], str) "
   ]
  },
  {
   "cell_type": "code",
   "execution_count": 24,
   "metadata": {
    "scrolled": true
   },
   "outputs": [
    {
     "ename": "SyntaxError",
     "evalue": "invalid syntax (<ipython-input-24-4a9981445b18>, line 14)",
     "output_type": "error",
     "traceback": [
      "\u001b[1;36m  File \u001b[1;32m\"<ipython-input-24-4a9981445b18>\"\u001b[1;36m, line \u001b[1;32m14\u001b[0m\n\u001b[1;33m    else isinstance(listA[x][y], int) == True:\u001b[0m\n\u001b[1;37m         ^\u001b[0m\n\u001b[1;31mSyntaxError\u001b[0m\u001b[1;31m:\u001b[0m invalid syntax\n"
     ]
    }
   ],
   "source": [
    "listA= [['Alice', 60, 88, 44, 70], ['Joe', 44, 100, 80, 60, 50]]\n",
    "\n",
    "def CalList():\n",
    "    listB=[]\n",
    "    #For loop the 1st list, with first elements to last element \n",
    "    for x in range(len(listA)):\n",
    "        #For loop the 2nd list in the 1st list, and print the context one by one.\n",
    "        for y in range(len(listA[x])):\n",
    "            ## if data in list is string, then add into list B\n",
    "            ## if data in list is number, then add into varibale and create a count, then calc average\n",
    "            if isinstance(listA[x][y], str) == True:\n",
    "                listB[x][y].append(listA[x][y])\n",
    "                #if the element is integer then all into variable and provide average in the end\n",
    "            else isinstance(listA[x][y], int) == True:\n",
    "                numSum =+ listA[x][y]\n",
    "                numCnt =+ 1\n",
    "                \n",
    "            return listB[x][y]\n",
    "\n",
    "CalList(listA)"
   ]
  },
  {
   "cell_type": "markdown",
   "metadata": {},
   "source": [
    "### Exercise 10"
   ]
  },
  {
   "cell_type": "markdown",
   "metadata": {},
   "source": [
    "Sort a tuple of tuples by 2nd item\n",
    "\n",
    "```\n",
    "tuple1 = (('a', 23),('b', 37),('c', 11), ('d',29))\n",
    "```\n",
    "Expected output:\n",
    "```\n",
    "(('c', 11), ('a', 23), ('d', 29), ('b', 37))\n",
    "```"
   ]
  },
  {
   "cell_type": "code",
   "execution_count": 35,
   "metadata": {},
   "outputs": [],
   "source": [
    "tuple1 = (('a', 23),('b', 37),('c', 11), ('d',29))\n",
    "\n",
    "def sortTupValue(item):\n",
    "    #For loop the 1st list, with first elements to last element \n",
    "    for x in range(len(item)): \n",
    "        print(item[x])\n",
    "        \n",
    "#sortTupValue(tuple1)"
   ]
  },
  {
   "cell_type": "code",
   "execution_count": null,
   "metadata": {},
   "outputs": [],
   "source": []
  }
 ],
 "metadata": {
  "anaconda-cloud": {},
  "kernelspec": {
   "display_name": "Python 3",
   "language": "python",
   "name": "python3"
  },
  "language_info": {
   "codemirror_mode": {
    "name": "ipython",
    "version": 3
   },
   "file_extension": ".py",
   "mimetype": "text/x-python",
   "name": "python",
   "nbconvert_exporter": "python",
   "pygments_lexer": "ipython3",
   "version": "3.8.8"
  }
 },
 "nbformat": 4,
 "nbformat_minor": 1
}
