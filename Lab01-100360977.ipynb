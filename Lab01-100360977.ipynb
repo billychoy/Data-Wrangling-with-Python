{
 "cells": [
  {
   "cell_type": "markdown",
   "metadata": {},
   "source": [
    "# Lists in Python"
   ]
  },
  {
   "cell_type": "markdown",
   "metadata": {},
   "source": [
    "In this lab, you will create a list of random numbers and then create another list from the first list whose elements are divisible by three. You will also repeat the experiment a few times (at least ten times) and calculate the arithmetic mean of the difference of lengths of the two lists."
   ]
  },
  {
   "cell_type": "markdown",
   "metadata": {},
   "source": [
    "***"
   ]
  },
  {
   "cell_type": "markdown",
   "metadata": {},
   "source": [
    "### Task 1 (2 marks)\n",
    "\n",
    "Create a list of random numbers (at least 100 in length but I encourage you to play with the length)\n",
    "\n",
    "__Pay attention so that this list has as less number of duplicates as possible__"
   ]
  },
  {
   "cell_type": "code",
   "execution_count": 37,
   "metadata": {},
   "outputs": [
    {
     "name": "stdout",
     "output_type": "stream",
     "text": [
      "[-30, -30, -29, -28, -28, -28, -26, -25, -25, -24, -17, -16, -15, -15, -13, -13, -10, -9, -9, -9, -8, -5, -5, -4, -3, -2, -2, 0, 1, 2, 5, 6, 8, 9, 9, 10, 10, 12, 14, 15, 15, 17, 17, 18, 19, 19, 20, 21, 21, 22, 29, 30, 30, 31, 32, 32, 34, 34, 36, 39, 39, 39, 40, 41, 41, 44, 45, 51, 51, 53, 61, 62, 63, 64, 66, 66, 69, 70, 71, 71, 72, 72, 74, 75, 78, 79, 80, 82, 83, 84, 84, 85, 86, 87, 88, 88, 88, 91, 91, 100]\n"
     ]
    }
   ],
   "source": [
    "### Write your code here below this comment\n",
    "#import Random Library\n",
    "import random\n",
    "\n",
    "#Create variable list_1 that store 100 random integer with range from -30 to 100\n",
    "list_1 =[random.randint(-30, 100) for x in range (0, 100)]\n",
    "\n",
    "# Sort list_1 for easier presentation\n",
    "list_1.sort()\n",
    "\n",
    "#Print list_1\n",
    "print(list_1)"
   ]
  },
  {
   "cell_type": "markdown",
   "metadata": {},
   "source": [
    "### Task 2 (2 marks)\n",
    "\n",
    "Write a list comprehension to generate a second list from the one you just created. The condition of membership in the second list is divisibility by 3."
   ]
  },
  {
   "cell_type": "code",
   "execution_count": 39,
   "metadata": {},
   "outputs": [
    {
     "name": "stdout",
     "output_type": "stream",
     "text": [
      "[-30, -30, -24, -15, -15, -9, -9, -9, -3, 0, 6, 9, 9, 12, 15, 15, 18, 21, 21, 30, 30, 36, 39, 39, 39, 45, 51, 51, 63, 66, 66, 69, 72, 72, 75, 78, 84, 84, 87]\n"
     ]
    }
   ],
   "source": [
    "### Write your code below this comment\n",
    "# Create list 2 that store element on list 1 than can be divided by 3\n",
    "list_2 = [x for x in list_1 if x % 3 == 0]\n",
    "\n",
    "print(list_2)"
   ]
  },
  {
   "cell_type": "markdown",
   "metadata": {},
   "source": [
    "### Task 3 (2 marks)\n",
    "\n",
    "- Determine the number of elements in the first list and the second list\n",
    "- Store both in two different variables\n",
    "- Calculate the difference in the number of elements between them"
   ]
  },
  {
   "cell_type": "code",
   "execution_count": 42,
   "metadata": {},
   "outputs": [
    {
     "name": "stdout",
     "output_type": "stream",
     "text": [
      "61\n"
     ]
    }
   ],
   "source": [
    "### Write your code below this comment\n",
    "# Create variable Len_List1 to store the length of list_1\n",
    "Len_List1 = len(list_1)\n",
    "\n",
    "# Create variable Len_List2 to store the length of list_2\n",
    "Len_List2 = len(list_2)\n",
    "\n",
    "# Create variable diff to storge the difference between\n",
    "# varibles Len_List1 and Len_List2\n",
    "diff = Len_List1 - Len_List2\n",
    "print(diff)"
   ]
  },
  {
   "cell_type": "markdown",
   "metadata": {},
   "source": [
    "### Task 4 (4 marks)\n",
    "\n",
    "- Pack `Task 2` and `Task 3` in a single while loop and perform them a few times in such a way that at the end you have a list with difference of length\n",
    "- End the while loop when desired number of experiments are finished (at least ten, please feel free to do more)\n",
    "- Calculate the arithmetic mean (common average) on the difference of length that you have. (How to sum all values in a list?)"
   ]
  },
  {
   "cell_type": "code",
   "execution_count": 58,
   "metadata": {},
   "outputs": [
    {
     "name": "stdout",
     "output_type": "stream",
     "text": [
      "This is the 20 time experiement result >>  [66, 62, 64, 70, 64, 71, 68, 69, 72, 61, 61, 67, 58, 62, 63, 68, 68, 61, 72, 66]\n",
      " --- --- --- --- --- --- --- ---\n",
      "Sum of 20 experiments 1313\n",
      "Mean of 20 experiments 65.65\n"
     ]
    }
   ],
   "source": [
    "### Write your code below this comment.\n",
    "experimentList=[]\n",
    "\n",
    "for x in range(0,20):\n",
    "    #Create variable list_1 that store 100 random integer with range from -30 to 100\n",
    "    list_3 =[random.randint(-30, 100) for x in range (0, 100)]\n",
    "\n",
    "    # Create list 2 that store element on list 1 than can be divided by 3\n",
    "    list_4 = [x for x in list_3 if x % 3 == 0]\n",
    "\n",
    "    # Create variable Len_List1 to store the length of list_1\n",
    "    Len_List3 = len(list_3)\n",
    "\n",
    "    # Create variable Len_List2 to store the length of list_2\n",
    "    Len_List4 = len(list_4)\n",
    "\n",
    "    # Create variable diff to storge the difference between\n",
    "    # varibles Len_List1 and Len_List2\n",
    "    diff = Len_List3 - Len_List4\n",
    "    # Store the diff value into experimentList\n",
    "    experimentList.append(diff)\n",
    "    \n",
    "print(\"This is the 20 time experiement result >> \", experimentList)\n",
    "print(\" --- --- --- --- --- --- --- ---\")\n",
    "\n",
    "expSum=0\n",
    "expCnt=0\n",
    "\n",
    "for i in experimentList:\n",
    "    expSum = expSum + i\n",
    "    expCnt = expCnt + 1\n",
    "\n",
    "meanExp = expSum/20\n",
    "    \n",
    "print(\"Sum of 20 experiments\", expSum)\n",
    "print(\"Mean of 20 experiments\",meanExp) \n",
    "\n"
   ]
  }
 ],
 "metadata": {
  "kernelspec": {
   "display_name": "Python 3",
   "language": "python",
   "name": "python3"
  },
  "language_info": {
   "codemirror_mode": {
    "name": "ipython",
    "version": 3
   },
   "file_extension": ".py",
   "mimetype": "text/x-python",
   "name": "python",
   "nbconvert_exporter": "python",
   "pygments_lexer": "ipython3",
   "version": "3.8.8"
  }
 },
 "nbformat": 4,
 "nbformat_minor": 2
}
