{
 "cells": [
  {
   "cell_type": "markdown",
   "metadata": {},
   "source": [
    "## Advanced Data Structures"
   ]
  },
  {
   "cell_type": "markdown",
   "metadata": {},
   "source": [
    "In this activity we will have to do the following tasks\n",
    "\n",
    "- Look up the definition of permutations, and dropwhile from [itertools documentation](https://docs.python.org/3/library/itertools.html) in Python\n",
    "- Using permutations generate all possible three digit numbers that can be generated using 0, 1, and 2\n",
    "- Loop over this iterator and print them and also use `type` and `isinstance` to make sure that the return types are tuples\n",
    "- Use a single line code involving `dropwhile` and an lambda expression to convert all the tuples to lists while dropping any leading zeros (example - `(0, 1, 2)` becomes `[1, 2]`)\n",
    "- Write a function which takes a list like above and returns the actual number contained in it. Example - if you pass `[1, 2]` to the function it will return you `12`. Make sure it is indeed a number and not just a concatenated string. (Hint - You will need to treat the incoming list as a stack in the function to achieve this)"
   ]
  },
  {
   "cell_type": "markdown",
   "metadata": {},
   "source": [
    "### Task 1\n",
    "\n",
    "Look up the definition of `permutations` and `dropwhile` from itertools. \n",
    "\n",
    "There is a way to look up the definition of a function inside Jupyter itself. just type the function name followed by a `?` and press `Shift+Enter`. We encourage you to also try this way"
   ]
  },
  {
   "cell_type": "code",
   "execution_count": 32,
   "metadata": {},
   "outputs": [],
   "source": [
    "### Write your code bellow this comment.\n",
    "import itertools\n",
    "from itertools import permutations\n",
    "permutations?\n",
    "\n",
    "from itertools import dropwhile\n",
    "dropwhile?"
   ]
  },
  {
   "cell_type": "markdown",
   "metadata": {},
   "source": [
    "### Task 2\n",
    "\n",
    "Write an expression to generate all the possible three digit numbers using 0, 1, and 2"
   ]
  },
  {
   "cell_type": "code",
   "execution_count": 41,
   "metadata": {},
   "outputs": [
    {
     "name": "stdout",
     "output_type": "stream",
     "text": [
      "(0, 1, 2)\n",
      "(0, 2, 1)\n",
      "(1, 0, 2)\n",
      "(1, 2, 0)\n",
      "(2, 0, 1)\n",
      "(2, 1, 0)\n"
     ]
    }
   ],
   "source": [
    "### Write your code bellow this comment\n",
    "list_perms = permutations([0, 1, 2])\n",
    "\n",
    "for i in list(list_perms):\n",
    "    print (i)"
   ]
  },
  {
   "cell_type": "markdown",
   "metadata": {},
   "source": [
    "### Task 3\n",
    "Loop over the iterator expression you generated before. Use print to print each element returned by the iterator. Use `assert` and `isinstance` to make sure that the elements are of type tuple"
   ]
  },
  {
   "cell_type": "code",
   "execution_count": 63,
   "metadata": {},
   "outputs": [
    {
     "name": "stdout",
     "output_type": "stream",
     "text": [
      "Is this a tuple's element?  True\n",
      "Checked - the element in list_perm is tuple\n",
      "(0, 1, 2)\n",
      "--- --- --- Next element --- --- ---\n",
      "Is this a tuple's element?  True\n",
      "Checked - the element in list_perm is tuple\n",
      "(0, 2, 1)\n",
      "--- --- --- Next element --- --- ---\n",
      "Is this a tuple's element?  True\n",
      "Checked - the element in list_perm is tuple\n",
      "(1, 0, 2)\n",
      "--- --- --- Next element --- --- ---\n",
      "Is this a tuple's element?  True\n",
      "Checked - the element in list_perm is tuple\n",
      "(1, 2, 0)\n",
      "--- --- --- Next element --- --- ---\n",
      "Is this a tuple's element?  True\n",
      "Checked - the element in list_perm is tuple\n",
      "(2, 0, 1)\n",
      "--- --- --- Next element --- --- ---\n",
      "Is this a tuple's element?  True\n",
      "Checked - the element in list_perm is tuple\n",
      "(2, 1, 0)\n",
      "--- --- --- Next element --- --- ---\n",
      "--- --- --- End --- --- ---\n"
     ]
    }
   ],
   "source": [
    "### Write your code bellow this comment \n",
    "list_perms = permutations([0, 1, 2])\n",
    "\n",
    "for i in list(list_perms):\n",
    "    # Check the instance is tuple type\n",
    "    print(\"Is this a tuple's element? \", isinstance(i, tuple))\n",
    "    \n",
    "    # Set assumption - list_perms element is tuple type\n",
    "    assert type(i) == tuple\n",
    "    print(\"Checked - the element in list_perm is tuple\")\n",
    "    \n",
    "    # print out element\n",
    "    print(i)\n",
    "    \n",
    "    print(\"--- --- --- Next element --- --- ---\")\n",
    "\n",
    "print(\"--- --- --- End --- --- ---\")"
   ]
  },
  {
   "cell_type": "markdown",
   "metadata": {},
   "source": [
    "### Task 4\n",
    "\n",
    "Write the loop again. But this time use `dropwhile` with a lambda expression to drop any leading zeros from the tuples. As an example `(0, 1, 2)` will become `[0, 2]`. Also cast the output of the dropwhile to a list.\n",
    "\n",
    "_Extra task can be to check the actual type that dropwhile returns without the casting asked above_"
   ]
  },
  {
   "cell_type": "code",
   "execution_count": 65,
   "metadata": {},
   "outputs": [
    {
     "name": "stdout",
     "output_type": "stream",
     "text": [
      "<class 'tuple'>\n",
      "[1, 2]\n",
      "<class 'tuple'>\n",
      "[2, 1]\n",
      "<class 'tuple'>\n",
      "[1, 0, 2]\n",
      "<class 'tuple'>\n",
      "[1, 2, 0]\n",
      "<class 'tuple'>\n",
      "[2, 0, 1]\n",
      "<class 'tuple'>\n",
      "[2, 1, 0]\n"
     ]
    }
   ],
   "source": [
    "### Write your code bellow this comment\n",
    "list_perms = permutations([0, 1, 2])\n",
    "\n",
    "for i in list_perms:\n",
    "    print(type(i))\n",
    "    print(list(dropwhile(lambda x:x <=0, i)))"
   ]
  },
  {
   "cell_type": "markdown",
   "metadata": {},
   "source": [
    "### Task 5\n",
    "\n",
    "Write all the logic you had written above, but this time write a separate function where you will be passing the list generated from dropwhile and the function will return the whole number contained in the list. As an example if you pass `[1, 2]` to the fucntion it will return 12 to you. Make sure that the return type is indeed a number and not a string. Although this task can be achieved using some other tricks, we require that you treat the incoming list as a stack in the function and generate the number there. "
   ]
  },
  {
   "cell_type": "code",
   "execution_count": 88,
   "metadata": {},
   "outputs": [
    {
     "name": "stdout",
     "output_type": "stream",
     "text": [
      "12.0\n",
      "21.0\n",
      "102.0\n",
      "120.0\n",
      "201.0\n",
      "210.0\n"
     ]
    }
   ],
   "source": [
    "### Write your code bellow this comment\n",
    "#import math module\n",
    "import math\n",
    "\n",
    "#define function call covertList to loop input and manipulated the position with power of 10\n",
    "def covertList(inList):\n",
    "    final_number = 0\n",
    "    for i in range(0, len(inList)):\n",
    "        final_number += (number_stack.pop() * (math.pow(10, i)))\n",
    "    return final_number\n",
    "\n",
    "#tewt function with range of 0, 1, 2\n",
    "for i in permutations([0, 1, 2]):\n",
    "    number_stack = list(dropwhile(lambda x: x <= 0, i))\n",
    "    print(covertList(number_stack))"
   ]
  },
  {
   "cell_type": "code",
   "execution_count": null,
   "metadata": {},
   "outputs": [],
   "source": []
  }
 ],
 "metadata": {
  "kernelspec": {
   "display_name": "Python 3",
   "language": "python",
   "name": "python3"
  },
  "language_info": {
   "codemirror_mode": {
    "name": "ipython",
    "version": 3
   },
   "file_extension": ".py",
   "mimetype": "text/x-python",
   "name": "python",
   "nbconvert_exporter": "python",
   "pygments_lexer": "ipython3",
   "version": "3.8.8"
  }
 },
 "nbformat": 4,
 "nbformat_minor": 2
}
