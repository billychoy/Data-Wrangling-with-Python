{
 "cells": [
  {
   "cell_type": "markdown",
   "metadata": {},
   "source": [
    "# Assignment 2 - Analyzing Thanksgiving Dinner"
   ]
  },
  {
   "cell_type": "markdown",
   "metadata": {},
   "source": [
    "In this assignment, you will work with the **Thanksgiving Dinner Dataset**. The dataset was created by FiveThirtyEight using a SurveyMonkey poll, in which they asked 1,058 respondents on Nov. 17, 2015 a number of questions regarding their Thanksgiving preferences.\n",
    "\n",
    "No details are needed for the attributes of this dataset as each column is a long self-explanatory string. You would have to read this dataset using a specific encoding scheme (Hint: Latin), otherwise it would result in read errors."
   ]
  },
  {
   "cell_type": "code",
   "execution_count": 1,
   "metadata": {},
   "outputs": [
    {
     "data": {
      "text/html": [
       "<div>\n",
       "<style scoped>\n",
       "    .dataframe tbody tr th:only-of-type {\n",
       "        vertical-align: middle;\n",
       "    }\n",
       "\n",
       "    .dataframe tbody tr th {\n",
       "        vertical-align: top;\n",
       "    }\n",
       "\n",
       "    .dataframe thead th {\n",
       "        text-align: right;\n",
       "    }\n",
       "</style>\n",
       "<table border=\"1\" class=\"dataframe\">\n",
       "  <thead>\n",
       "    <tr style=\"text-align: right;\">\n",
       "      <th></th>\n",
       "      <th>RespondentID</th>\n",
       "      <th>Do you celebrate Thanksgiving?</th>\n",
       "      <th>What is typically the main dish at your Thanksgiving dinner?</th>\n",
       "      <th>What is typically the main dish at your Thanksgiving dinner? - Other (please specify)</th>\n",
       "      <th>How is the main dish typically cooked?</th>\n",
       "      <th>How is the main dish typically cooked? - Other (please specify)</th>\n",
       "      <th>What kind of stuffing/dressing do you typically have?</th>\n",
       "      <th>What kind of stuffing/dressing do you typically have? - Other (please specify)</th>\n",
       "      <th>What type of cranberry saucedo you typically have?</th>\n",
       "      <th>What type of cranberry saucedo you typically have? - Other (please specify)</th>\n",
       "      <th>...</th>\n",
       "      <th>Have you ever tried to meet up with hometown friends on Thanksgiving night?</th>\n",
       "      <th>Have you ever attended a \"Friendsgiving?\"</th>\n",
       "      <th>Will you shop any Black Friday sales on Thanksgiving Day?</th>\n",
       "      <th>Do you work in retail?</th>\n",
       "      <th>Will you employer make you work on Black Friday?</th>\n",
       "      <th>How would you describe where you live?</th>\n",
       "      <th>Age</th>\n",
       "      <th>What is your gender?</th>\n",
       "      <th>How much total combined money did all members of your HOUSEHOLD earn last year?</th>\n",
       "      <th>US Region</th>\n",
       "    </tr>\n",
       "  </thead>\n",
       "  <tbody>\n",
       "    <tr>\n",
       "      <th>0</th>\n",
       "      <td>4337954960</td>\n",
       "      <td>Yes</td>\n",
       "      <td>Turkey</td>\n",
       "      <td>NaN</td>\n",
       "      <td>Baked</td>\n",
       "      <td>NaN</td>\n",
       "      <td>Bread-based</td>\n",
       "      <td>NaN</td>\n",
       "      <td>None</td>\n",
       "      <td>NaN</td>\n",
       "      <td>...</td>\n",
       "      <td>Yes</td>\n",
       "      <td>No</td>\n",
       "      <td>No</td>\n",
       "      <td>No</td>\n",
       "      <td>NaN</td>\n",
       "      <td>Suburban</td>\n",
       "      <td>18 - 29</td>\n",
       "      <td>Male</td>\n",
       "      <td>$75,000 to $99,999</td>\n",
       "      <td>Middle Atlantic</td>\n",
       "    </tr>\n",
       "    <tr>\n",
       "      <th>1</th>\n",
       "      <td>4337951949</td>\n",
       "      <td>Yes</td>\n",
       "      <td>Turkey</td>\n",
       "      <td>NaN</td>\n",
       "      <td>Baked</td>\n",
       "      <td>NaN</td>\n",
       "      <td>Bread-based</td>\n",
       "      <td>NaN</td>\n",
       "      <td>Other (please specify)</td>\n",
       "      <td>Homemade cranberry gelatin ring</td>\n",
       "      <td>...</td>\n",
       "      <td>No</td>\n",
       "      <td>No</td>\n",
       "      <td>Yes</td>\n",
       "      <td>No</td>\n",
       "      <td>NaN</td>\n",
       "      <td>Rural</td>\n",
       "      <td>18 - 29</td>\n",
       "      <td>Female</td>\n",
       "      <td>$50,000 to $74,999</td>\n",
       "      <td>East South Central</td>\n",
       "    </tr>\n",
       "    <tr>\n",
       "      <th>2</th>\n",
       "      <td>4337935621</td>\n",
       "      <td>Yes</td>\n",
       "      <td>Turkey</td>\n",
       "      <td>NaN</td>\n",
       "      <td>Roasted</td>\n",
       "      <td>NaN</td>\n",
       "      <td>Rice-based</td>\n",
       "      <td>NaN</td>\n",
       "      <td>Homemade</td>\n",
       "      <td>NaN</td>\n",
       "      <td>...</td>\n",
       "      <td>Yes</td>\n",
       "      <td>Yes</td>\n",
       "      <td>Yes</td>\n",
       "      <td>No</td>\n",
       "      <td>NaN</td>\n",
       "      <td>Suburban</td>\n",
       "      <td>18 - 29</td>\n",
       "      <td>Male</td>\n",
       "      <td>$0 to $9,999</td>\n",
       "      <td>Mountain</td>\n",
       "    </tr>\n",
       "    <tr>\n",
       "      <th>3</th>\n",
       "      <td>4337933040</td>\n",
       "      <td>Yes</td>\n",
       "      <td>Turkey</td>\n",
       "      <td>NaN</td>\n",
       "      <td>Baked</td>\n",
       "      <td>NaN</td>\n",
       "      <td>Bread-based</td>\n",
       "      <td>NaN</td>\n",
       "      <td>Homemade</td>\n",
       "      <td>NaN</td>\n",
       "      <td>...</td>\n",
       "      <td>Yes</td>\n",
       "      <td>No</td>\n",
       "      <td>No</td>\n",
       "      <td>No</td>\n",
       "      <td>NaN</td>\n",
       "      <td>Urban</td>\n",
       "      <td>30 - 44</td>\n",
       "      <td>Male</td>\n",
       "      <td>$200,000 and up</td>\n",
       "      <td>Pacific</td>\n",
       "    </tr>\n",
       "    <tr>\n",
       "      <th>4</th>\n",
       "      <td>4337931983</td>\n",
       "      <td>Yes</td>\n",
       "      <td>Tofurkey</td>\n",
       "      <td>NaN</td>\n",
       "      <td>Baked</td>\n",
       "      <td>NaN</td>\n",
       "      <td>Bread-based</td>\n",
       "      <td>NaN</td>\n",
       "      <td>Canned</td>\n",
       "      <td>NaN</td>\n",
       "      <td>...</td>\n",
       "      <td>Yes</td>\n",
       "      <td>No</td>\n",
       "      <td>No</td>\n",
       "      <td>No</td>\n",
       "      <td>NaN</td>\n",
       "      <td>Urban</td>\n",
       "      <td>30 - 44</td>\n",
       "      <td>Male</td>\n",
       "      <td>$100,000 to $124,999</td>\n",
       "      <td>Pacific</td>\n",
       "    </tr>\n",
       "  </tbody>\n",
       "</table>\n",
       "<p>5 rows × 65 columns</p>\n",
       "</div>"
      ],
      "text/plain": [
       "   RespondentID Do you celebrate Thanksgiving?  \\\n",
       "0    4337954960                            Yes   \n",
       "1    4337951949                            Yes   \n",
       "2    4337935621                            Yes   \n",
       "3    4337933040                            Yes   \n",
       "4    4337931983                            Yes   \n",
       "\n",
       "  What is typically the main dish at your Thanksgiving dinner?  \\\n",
       "0                                             Turkey             \n",
       "1                                             Turkey             \n",
       "2                                             Turkey             \n",
       "3                                             Turkey             \n",
       "4                                           Tofurkey             \n",
       "\n",
       "  What is typically the main dish at your Thanksgiving dinner? - Other (please specify)  \\\n",
       "0                                                NaN                                      \n",
       "1                                                NaN                                      \n",
       "2                                                NaN                                      \n",
       "3                                                NaN                                      \n",
       "4                                                NaN                                      \n",
       "\n",
       "  How is the main dish typically cooked?  \\\n",
       "0                                  Baked   \n",
       "1                                  Baked   \n",
       "2                                Roasted   \n",
       "3                                  Baked   \n",
       "4                                  Baked   \n",
       "\n",
       "  How is the main dish typically cooked? - Other (please specify)  \\\n",
       "0                                                NaN                \n",
       "1                                                NaN                \n",
       "2                                                NaN                \n",
       "3                                                NaN                \n",
       "4                                                NaN                \n",
       "\n",
       "  What kind of stuffing/dressing do you typically have?  \\\n",
       "0                                        Bread-based      \n",
       "1                                        Bread-based      \n",
       "2                                         Rice-based      \n",
       "3                                        Bread-based      \n",
       "4                                        Bread-based      \n",
       "\n",
       "  What kind of stuffing/dressing do you typically have? - Other (please specify)  \\\n",
       "0                                                NaN                               \n",
       "1                                                NaN                               \n",
       "2                                                NaN                               \n",
       "3                                                NaN                               \n",
       "4                                                NaN                               \n",
       "\n",
       "  What type of cranberry saucedo you typically have?  \\\n",
       "0                                               None   \n",
       "1                             Other (please specify)   \n",
       "2                                           Homemade   \n",
       "3                                           Homemade   \n",
       "4                                             Canned   \n",
       "\n",
       "  What type of cranberry saucedo you typically have? - Other (please specify)  \\\n",
       "0                                                NaN                            \n",
       "1                    Homemade cranberry gelatin ring                            \n",
       "2                                                NaN                            \n",
       "3                                                NaN                            \n",
       "4                                                NaN                            \n",
       "\n",
       "   ...  \\\n",
       "0  ...   \n",
       "1  ...   \n",
       "2  ...   \n",
       "3  ...   \n",
       "4  ...   \n",
       "\n",
       "  Have you ever tried to meet up with hometown friends on Thanksgiving night?  \\\n",
       "0                                                Yes                            \n",
       "1                                                 No                            \n",
       "2                                                Yes                            \n",
       "3                                                Yes                            \n",
       "4                                                Yes                            \n",
       "\n",
       "  Have you ever attended a \"Friendsgiving?\"  \\\n",
       "0                                        No   \n",
       "1                                        No   \n",
       "2                                       Yes   \n",
       "3                                        No   \n",
       "4                                        No   \n",
       "\n",
       "  Will you shop any Black Friday sales on Thanksgiving Day?  \\\n",
       "0                                                 No          \n",
       "1                                                Yes          \n",
       "2                                                Yes          \n",
       "3                                                 No          \n",
       "4                                                 No          \n",
       "\n",
       "  Do you work in retail? Will you employer make you work on Black Friday?  \\\n",
       "0                     No                                              NaN   \n",
       "1                     No                                              NaN   \n",
       "2                     No                                              NaN   \n",
       "3                     No                                              NaN   \n",
       "4                     No                                              NaN   \n",
       "\n",
       "  How would you describe where you live?      Age What is your gender?  \\\n",
       "0                               Suburban  18 - 29                 Male   \n",
       "1                                  Rural  18 - 29               Female   \n",
       "2                               Suburban  18 - 29                 Male   \n",
       "3                                  Urban  30 - 44                 Male   \n",
       "4                                  Urban  30 - 44                 Male   \n",
       "\n",
       "  How much total combined money did all members of your HOUSEHOLD earn last year?  \\\n",
       "0                                 $75,000 to $99,999                                \n",
       "1                                 $50,000 to $74,999                                \n",
       "2                                       $0 to $9,999                                \n",
       "3                                    $200,000 and up                                \n",
       "4                               $100,000 to $124,999                                \n",
       "\n",
       "            US Region  \n",
       "0     Middle Atlantic  \n",
       "1  East South Central  \n",
       "2            Mountain  \n",
       "3             Pacific  \n",
       "4             Pacific  \n",
       "\n",
       "[5 rows x 65 columns]"
      ]
     },
     "execution_count": 1,
     "metadata": {},
     "output_type": "execute_result"
    }
   ],
   "source": [
    "### Write your code below this comment.\n",
    "import pandas as pd\n",
    "import numpy as np\n",
    "import matplotlib.pyplot as plt\n",
    "import seaborn as sns\n",
    " \n",
    "tg = pd.read_csv(\"thanksgiving.csv\", encoding=\"Latin-1\")\n",
    "tg.head()"
   ]
  },
  {
   "cell_type": "markdown",
   "metadata": {},
   "source": [
    "### Can you report the number of rows and columns in this dataset?"
   ]
  },
  {
   "cell_type": "code",
   "execution_count": 2,
   "metadata": {},
   "outputs": [
    {
     "data": {
      "text/plain": [
       "(1058, 65)"
      ]
     },
     "execution_count": 2,
     "metadata": {},
     "output_type": "execute_result"
    }
   ],
   "source": [
    "### Write your code below this comment.\n",
    "tg.shape"
   ]
  },
  {
   "cell_type": "markdown",
   "metadata": {},
   "source": [
    "### Can you access the column labeled `Do you celebrate Thanksgiving?` both as a Series and Dataframe?"
   ]
  },
  {
   "cell_type": "code",
   "execution_count": 3,
   "metadata": {},
   "outputs": [
    {
     "data": {
      "text/plain": [
       "0       Yes\n",
       "1       Yes\n",
       "2       Yes\n",
       "3       Yes\n",
       "4       Yes\n",
       "       ... \n",
       "1053    Yes\n",
       "1054    Yes\n",
       "1055    Yes\n",
       "1056    Yes\n",
       "1057    Yes\n",
       "Name: Do you celebrate Thanksgiving?, Length: 1058, dtype: object"
      ]
     },
     "execution_count": 3,
     "metadata": {},
     "output_type": "execute_result"
    }
   ],
   "source": [
    "### Write your code below this comment.\n",
    "tg['Do you celebrate Thanksgiving?']"
   ]
  },
  {
   "cell_type": "markdown",
   "metadata": {},
   "source": [
    "### Can you report how many people responded 'Yes' and 'No' to the question 'Do you celebrate Thanksgiving?' "
   ]
  },
  {
   "cell_type": "code",
   "execution_count": 4,
   "metadata": {},
   "outputs": [
    {
     "data": {
      "text/plain": [
       "Yes    980\n",
       "No      78\n",
       "Name: Do you celebrate Thanksgiving?, dtype: int64"
      ]
     },
     "execution_count": 4,
     "metadata": {},
     "output_type": "execute_result"
    }
   ],
   "source": [
    "### Write your code below this comment.\n",
    "tg[\"Do you celebrate Thanksgiving?\"].dropna().value_counts()"
   ]
  },
  {
   "cell_type": "markdown",
   "metadata": {},
   "source": [
    "### Can you plot a bar chart of the proportion (percentage) of people who responded 'Yes' and 'No' to the question 'Do you celebrate Thanksgiving?'\n",
    "<u>Note:</u> For this, you would need to neglect people who opted not to respond to this question."
   ]
  },
  {
   "cell_type": "code",
   "execution_count": 5,
   "metadata": {},
   "outputs": [
    {
     "data": {
      "image/png": "[encoded data removed]",
      "text/plain": [
       "<Figure size 432x288 with 1 Axes>"
      ]
     },
     "metadata": {
      "needs_background": "light"
     },
     "output_type": "display_data"
    }
   ],
   "source": [
    "### Write your code below this comment. \n",
    "ax = sns.countplot(y=\"Do you celebrate Thanksgiving?\", data=tg)\n",
    "plt.title('Do you celebrate Thanksgiving?')\n",
    "plt.xlabel('Count')\n",
    "plt.ylabel('Type of Dishes')\n",
    "\n",
    "total = len(tg[\"Do you celebrate Thanksgiving?\"])\n",
    "for p in ax.patches:\n",
    "        percentage = '{:.1f}%'.format(100 * p.get_width()/total)\n",
    "        x = p.get_x() + p.get_width() + 0.02\n",
    "        y = p.get_y() + p.get_height()/2\n",
    "        ax.annotate(percentage, (x, y))\n",
    "plt.show()"
   ]
  },
  {
   "cell_type": "markdown",
   "metadata": {},
   "source": [
    "### Can you report the counts of each of the different responses to the question 'What is typically the main dish at your Thanksgiving dinner?' "
   ]
  },
  {
   "cell_type": "code",
   "execution_count": 6,
   "metadata": {},
   "outputs": [
    {
     "data": {
      "text/plain": [
       "Turkey                    859\n",
       "Other (please specify)     35\n",
       "Ham/Pork                   29\n",
       "Tofurkey                   20\n",
       "Chicken                    12\n",
       "Roast beef                 11\n",
       "I don't know                5\n",
       "Turducken                   3\n",
       "Name: What is typically the main dish at your Thanksgiving dinner?, dtype: int64"
      ]
     },
     "execution_count": 6,
     "metadata": {},
     "output_type": "execute_result"
    }
   ],
   "source": [
    "### Write your code below this comment.\n",
    "tg[\"What is typically the main dish at your Thanksgiving dinner?\"].value_counts()"
   ]
  },
  {
   "cell_type": "markdown",
   "metadata": {},
   "source": [
    "### Can you plot a bar chart of the proportion (percentage) of each of the different responses to the question 'What is typically the main dish at your Thanksgiving dinner?'\n",
    "<u>Note:</u> For this as well, you would need to neglect people who opted not to respond to this question."
   ]
  },
  {
   "cell_type": "code",
   "execution_count": 7,
   "metadata": {},
   "outputs": [
    {
     "data": {
      "text/plain": [
       "(980, 65)"
      ]
     },
     "execution_count": 7,
     "metadata": {},
     "output_type": "execute_result"
    }
   ],
   "source": [
    "#Lets focus respondont with \"Yes\" only\n",
    "tg_yes = tg [tg[\"Do you celebrate Thanksgiving?\"]==\"Yes\"]\n",
    "tg_yes.shape"
   ]
  },
  {
   "cell_type": "code",
   "execution_count": 8,
   "metadata": {},
   "outputs": [
    {
     "data": {
      "image/png": "[encoded data removed]",
      "text/plain": [
       "<Figure size 432x288 with 1 Axes>"
      ]
     },
     "metadata": {
      "needs_background": "light"
     },
     "output_type": "display_data"
    }
   ],
   "source": [
    "### Write your code below this comment.\n",
    "ax = sns.countplot(y=\"What is typically the main dish at your Thanksgiving dinner?\", data=tg_yes)\n",
    "plt.title('What is typically the main dish at your Thanksgiving dinner?')\n",
    "plt.xlabel('Count')\n",
    "plt.ylabel('Type of Dishes')\n",
    "\n",
    "total = len(tg[\"What is typically the main dish at your Thanksgiving dinner?\"])\n",
    "for p in ax.patches:\n",
    "        percentage = '{:.1f}%'.format(100 * p.get_width()/total)\n",
    "        x = p.get_x() + p.get_width() + 0.02\n",
    "        y = p.get_y() + p.get_height()/2\n",
    "        ax.annotate(percentage, (x, y))\n",
    "plt.show() "
   ]
  },
  {
   "cell_type": "markdown",
   "metadata": {},
   "source": [
    "### Can you get the list of all columns this dataset has?\n",
    "<u>Note:</u> This is because we can see that not all columns are visible from the displayed dataframe."
   ]
  },
  {
   "cell_type": "code",
   "execution_count": 9,
   "metadata": {},
   "outputs": [
    {
     "name": "stdout",
     "output_type": "stream",
     "text": [
      "RespondentID\n",
      "Do you celebrate Thanksgiving?\n",
      "What is typically the main dish at your Thanksgiving dinner?\n",
      "What is typically the main dish at your Thanksgiving dinner? - Other (please specify)\n",
      "How is the main dish typically cooked?\n",
      "How is the main dish typically cooked? - Other (please specify)\n",
      "What kind of stuffing/dressing do you typically have?\n",
      "What kind of stuffing/dressing do you typically have? - Other (please specify)\n",
      "What type of cranberry saucedo you typically have?\n",
      "What type of cranberry saucedo you typically have? - Other (please specify)\n",
      "Do you typically have gravy?\n",
      "Which of these side dishes aretypically served at your Thanksgiving dinner? Please select all that apply. - Brussel sprouts\n",
      "Which of these side dishes aretypically served at your Thanksgiving dinner? Please select all that apply. - Carrots\n",
      "Which of these side dishes aretypically served at your Thanksgiving dinner? Please select all that apply. - Cauliflower\n",
      "Which of these side dishes aretypically served at your Thanksgiving dinner? Please select all that apply. - Corn\n",
      "Which of these side dishes aretypically served at your Thanksgiving dinner? Please select all that apply. - Cornbread\n",
      "Which of these side dishes aretypically served at your Thanksgiving dinner? Please select all that apply. - Fruit salad\n",
      "Which of these side dishes aretypically served at your Thanksgiving dinner? Please select all that apply. - Green beans/green bean casserole\n",
      "Which of these side dishes aretypically served at your Thanksgiving dinner? Please select all that apply. - Macaroni and cheese\n",
      "Which of these side dishes aretypically served at your Thanksgiving dinner? Please select all that apply. - Mashed potatoes\n",
      "Which of these side dishes aretypically served at your Thanksgiving dinner? Please select all that apply. - Rolls/biscuits\n",
      "Which of these side dishes aretypically served at your Thanksgiving dinner? Please select all that apply. - Squash\n",
      "Which of these side dishes aretypically served at your Thanksgiving dinner? Please select all that apply. - Vegetable salad\n",
      "Which of these side dishes aretypically served at your Thanksgiving dinner? Please select all that apply. - Yams/sweet potato casserole\n",
      "Which of these side dishes aretypically served at your Thanksgiving dinner? Please select all that apply. - Other (please specify)\n",
      "Which of these side dishes aretypically served at your Thanksgiving dinner? Please select all that apply. - Other (please specify).1\n",
      "Which type of pie is typically served at your Thanksgiving dinner? Please select all that apply. - Apple\n",
      "Which type of pie is typically served at your Thanksgiving dinner? Please select all that apply. - Buttermilk\n",
      "Which type of pie is typically served at your Thanksgiving dinner? Please select all that apply. - Cherry\n",
      "Which type of pie is typically served at your Thanksgiving dinner? Please select all that apply. - Chocolate\n",
      "Which type of pie is typically served at your Thanksgiving dinner? Please select all that apply. - Coconut cream\n",
      "Which type of pie is typically served at your Thanksgiving dinner? Please select all that apply. - Key lime\n",
      "Which type of pie is typically served at your Thanksgiving dinner? Please select all that apply. - Peach\n",
      "Which type of pie is typically served at your Thanksgiving dinner? Please select all that apply. - Pecan\n",
      "Which type of pie is typically served at your Thanksgiving dinner? Please select all that apply. - Pumpkin\n",
      "Which type of pie is typically served at your Thanksgiving dinner? Please select all that apply. - Sweet Potato\n",
      "Which type of pie is typically served at your Thanksgiving dinner? Please select all that apply. - None\n",
      "Which type of pie is typically served at your Thanksgiving dinner? Please select all that apply. - Other (please specify)\n",
      "Which type of pie is typically served at your Thanksgiving dinner? Please select all that apply. - Other (please specify).1\n",
      "Which of these desserts do you typically have at Thanksgiving dinner? Please select all that apply.   - Apple cobbler\n",
      "Which of these desserts do you typically have at Thanksgiving dinner? Please select all that apply.   - Blondies\n",
      "Which of these desserts do you typically have at Thanksgiving dinner? Please select all that apply.   - Brownies\n",
      "Which of these desserts do you typically have at Thanksgiving dinner? Please select all that apply.   - Carrot cake\n",
      "Which of these desserts do you typically have at Thanksgiving dinner? Please select all that apply.   - Cheesecake\n",
      "Which of these desserts do you typically have at Thanksgiving dinner? Please select all that apply.   - Cookies\n",
      "Which of these desserts do you typically have at Thanksgiving dinner? Please select all that apply.   - Fudge\n",
      "Which of these desserts do you typically have at Thanksgiving dinner? Please select all that apply.   - Ice cream\n",
      "Which of these desserts do you typically have at Thanksgiving dinner? Please select all that apply.   - Peach cobbler\n",
      "Which of these desserts do you typically have at Thanksgiving dinner? Please select all that apply.   - None\n",
      "Which of these desserts do you typically have at Thanksgiving dinner? Please select all that apply.   - Other (please specify)\n",
      "Which of these desserts do you typically have at Thanksgiving dinner? Please select all that apply.   - Other (please specify).1\n",
      "Do you typically pray before or after the Thanksgiving meal?\n",
      "How far will you travel for Thanksgiving?\n",
      "Will you watch any of the following programs on Thanksgiving? Please select all that apply. - Macy's Parade\n",
      "What's the age cutoff at your \"kids' table\" at Thanksgiving?\n",
      "Have you ever tried to meet up with hometown friends on Thanksgiving night?\n",
      "Have you ever attended a \"Friendsgiving?\"\n",
      "Will you shop any Black Friday sales on Thanksgiving Day?\n",
      "Do you work in retail?\n",
      "Will you employer make you work on Black Friday?\n",
      "How would you describe where you live?\n",
      "Age\n",
      "What is your gender?\n",
      "How much total combined money did all members of your HOUSEHOLD earn last year?\n",
      "US Region\n"
     ]
    }
   ],
   "source": [
    "### Write your code below this comment. \n",
    "columns = tg_yes.columns.tolist()\n",
    "for c in columns:\n",
    "    print(c)"
   ]
  },
  {
   "cell_type": "markdown",
   "metadata": {},
   "source": [
    "### Can you get the integer indices of the the following columns programmatically (i.e. without manually counting the index of the column)?\n",
    "<u>Note:</u> I want you to do this as I would like you to access these columns more succintly (using just their integer indices instead of labels) going forward into the assignment."
   ]
  },
  {
   "cell_type": "markdown",
   "metadata": {
    "scrolled": false
   },
   "source": [
    "```Do you typically have gravy?```\n",
    "\n",
    "```Which type of pie is typically served at your Thanksgiving dinner? Please select all that apply. - Apple```\n",
    "\n",
    "```Which type of pie is typically served at your Thanksgiving dinner? Please select all that apply. - Pecan```\n",
    "\n",
    "```Which type of pie is typically served at your Thanksgiving dinner? Please select all that apply. - Pumpkin```\n",
    "\n",
    "```How far will you travel for Thanksgiving?```\n",
    "\n",
    "```Have you ever tried to meet up with hometown friends on Thanksgiving night?```\n",
    "\n",
    "```Have you ever attended a \"Friendsgiving?```\n",
    "\n",
    "```How much total combined money did all members of your HOUSEHOLD earn last year?```"
   ]
  },
  {
   "cell_type": "code",
   "execution_count": 10,
   "metadata": {},
   "outputs": [
    {
     "data": {
      "text/plain": [
       "10"
      ]
     },
     "execution_count": 10,
     "metadata": {},
     "output_type": "execute_result"
    }
   ],
   "source": [
    "### Write your code below this comment.\n",
    "tg_yes.columns.get_loc(\"Do you typically have gravy?\")"
   ]
  },
  {
   "cell_type": "code",
   "execution_count": 11,
   "metadata": {},
   "outputs": [
    {
     "data": {
      "text/plain": [
       "26"
      ]
     },
     "execution_count": 11,
     "metadata": {},
     "output_type": "execute_result"
    }
   ],
   "source": [
    "tg_yes.columns.get_loc(\"Which type of pie is typically served at your Thanksgiving dinner? Please select all that apply. - Apple\")"
   ]
  },
  {
   "cell_type": "code",
   "execution_count": 12,
   "metadata": {},
   "outputs": [
    {
     "data": {
      "text/plain": [
       "33"
      ]
     },
     "execution_count": 12,
     "metadata": {},
     "output_type": "execute_result"
    }
   ],
   "source": [
    "tg_yes.columns.get_loc(\"Which type of pie is typically served at your Thanksgiving dinner? Please select all that apply. - Pecan\")"
   ]
  },
  {
   "cell_type": "code",
   "execution_count": 13,
   "metadata": {},
   "outputs": [
    {
     "data": {
      "text/plain": [
       "34"
      ]
     },
     "execution_count": 13,
     "metadata": {},
     "output_type": "execute_result"
    }
   ],
   "source": [
    "tg_yes.columns.get_loc(\"Which type of pie is typically served at your Thanksgiving dinner? Please select all that apply. - Pumpkin\")"
   ]
  },
  {
   "cell_type": "code",
   "execution_count": 14,
   "metadata": {},
   "outputs": [
    {
     "data": {
      "text/plain": [
       "52"
      ]
     },
     "execution_count": 14,
     "metadata": {},
     "output_type": "execute_result"
    }
   ],
   "source": [
    "tg_yes.columns.get_loc(\"How far will you travel for Thanksgiving?\")"
   ]
  },
  {
   "cell_type": "code",
   "execution_count": 15,
   "metadata": {},
   "outputs": [
    {
     "data": {
      "text/plain": [
       "55"
      ]
     },
     "execution_count": 15,
     "metadata": {},
     "output_type": "execute_result"
    }
   ],
   "source": [
    "tg_yes.columns.get_loc(\"Have you ever tried to meet up with hometown friends on Thanksgiving night?\")"
   ]
  },
  {
   "cell_type": "code",
   "execution_count": 16,
   "metadata": {},
   "outputs": [
    {
     "data": {
      "text/plain": [
       "56"
      ]
     },
     "execution_count": 16,
     "metadata": {},
     "output_type": "execute_result"
    }
   ],
   "source": [
    "tg_yes.columns.get_loc('Have you ever attended a \"Friendsgiving?\"')"
   ]
  },
  {
   "cell_type": "code",
   "execution_count": 17,
   "metadata": {},
   "outputs": [
    {
     "data": {
      "text/plain": [
       "63"
      ]
     },
     "execution_count": 17,
     "metadata": {},
     "output_type": "execute_result"
    }
   ],
   "source": [
    "tg_yes.columns.get_loc(\"How much total combined money did all members of your HOUSEHOLD earn last year?\")"
   ]
  },
  {
   "cell_type": "markdown",
   "metadata": {},
   "source": [
    "### Can you report the total number of people who typically have gravy and the main dish at their Thanksgiving dinner was Tofurkey?"
   ]
  },
  {
   "cell_type": "code",
   "execution_count": 18,
   "metadata": {},
   "outputs": [
    {
     "name": "stdout",
     "output_type": "stream",
     "text": [
      "People have main dish as Tofukey and Gravy: \n"
     ]
    },
    {
     "data": {
      "text/plain": [
       "Yes    12\n",
       "No      8\n",
       "Name: Do you typically have gravy?, dtype: int64"
      ]
     },
     "execution_count": 18,
     "metadata": {},
     "output_type": "execute_result"
    }
   ],
   "source": [
    "### Write your code below this comment.\n",
    "# Create a subset with only main dish is Tofukey\n",
    "MainDish_Tofu = tg_yes[tg_yes[\"What is typically the main dish at your Thanksgiving dinner?\"] =='Tofurkey']\n",
    "\n",
    "print(\"People have main dish as Tofukey and Gravy: \")\n",
    "MainDish_Tofu[\"Do you typically have gravy?\"].value_counts() "
   ]
  },
  {
   "cell_type": "markdown",
   "metadata": {},
   "source": [
    "### Can you report the total number of people who typically have all three types of pie served at their Thanksgiving dinner?"
   ]
  },
  {
   "cell_type": "code",
   "execution_count": 19,
   "metadata": {},
   "outputs": [
    {
     "data": {
      "text/plain": [
       "137"
      ]
     },
     "execution_count": 19,
     "metadata": {},
     "output_type": "execute_result"
    }
   ],
   "source": [
    "### Write your code below this comment.\n",
    "# Select column with specifc pie selection (Apple, Pecan and Pumpkin)\n",
    "three_pie = tg_yes[(tg_yes.iloc[:,26]=='Apple') & \n",
    "                   (tg_yes.iloc[:,33]=='Pecan') & \n",
    "                   (tg_yes.iloc[:,34]=='Pumpkin')]\n",
    "\n",
    "#Show the count of the dataset\n",
    "len(three_pie)"
   ]
  },
  {
   "cell_type": "markdown",
   "metadata": {},
   "source": [
    "### Can you report the total number of people who didn't check any of the options (Apple, Pecan, or Pumpkin) in response to the question \"Which type of pie is typically served at your Thanksgiving dinner\"?"
   ]
  },
  {
   "cell_type": "code",
   "execution_count": 20,
   "metadata": {},
   "outputs": [
    {
     "name": "stdout",
     "output_type": "stream",
     "text": [
      "People didn't check any of the pie options (Apple, Pecan, or Pumpkin)\n"
     ]
    },
    {
     "data": {
      "text/plain": [
       "False    876\n",
       "True     104\n",
       "dtype: int64"
      ]
     },
     "execution_count": 20,
     "metadata": {},
     "output_type": "execute_result"
    }
   ],
   "source": [
    "### Write your code below this comment.\n",
    "\n",
    "ApplePie = tg_yes.iloc[:,26]\n",
    "PecanPie = tg_yes.iloc[:,33]\n",
    "PumpkinPie = tg_yes.iloc[:,34]\n",
    "\n",
    "#Use isnull to convert data into boolean\n",
    "NoOrderPie = ApplePie.isnull() & PecanPie.isnull() & PumpkinPie.isnull()\n",
    "\n",
    "#large proportion of people did order at least one of the pie\n",
    "print(\"People didn't check any of the pie options (Apple, Pecan, or Pumpkin)\")\n",
    "NoOrderPie.value_counts()"
   ]
  },
  {
   "cell_type": "markdown",
   "metadata": {},
   "source": [
    "### Can you report the number of people in each of the four different age groups?"
   ]
  },
  {
   "cell_type": "code",
   "execution_count": 21,
   "metadata": {},
   "outputs": [
    {
     "data": {
      "text/plain": [
       "45 - 59    269\n",
       "60+        258\n",
       "30 - 44    235\n",
       "18 - 29    185\n",
       "Name: Age, dtype: int64"
      ]
     },
     "execution_count": 21,
     "metadata": {},
     "output_type": "execute_result"
    }
   ],
   "source": [
    "### Write your code below this comment.\n",
    "tg_yes[\"Age\"].value_counts()"
   ]
  },
  {
   "cell_type": "markdown",
   "metadata": {},
   "source": [
    "### Can you write a small function to extract the numerical age for each person from the categorical variable \"Age\"? Create a new column \"int_age\" that contains the numerical data.\n",
    "<u>Note:</u> To keep things simple, assume that the numerical age of each person is the lower bound of the age group. For example, the numerical age for a person in the group 45 - 59 would be 45. However, for the last 60+ group, the age would be 60."
   ]
  },
  {
   "cell_type": "code",
   "execution_count": 28,
   "metadata": {},
   "outputs": [
    {
     "name": "stderr",
     "output_type": "stream",
     "text": [
      "<ipython-input-28-b6247f57d094>:17: SettingWithCopyWarning: \n",
      "A value is trying to be set on a copy of a slice from a DataFrame.\n",
      "Try using .loc[row_indexer,col_indexer] = value instead\n",
      "\n",
      "See the caveats in the documentation: https://pandas.pydata.org/pandas-docs/stable/user_guide/indexing.html#returning-a-view-versus-a-copy\n",
      "  tg_yes[\"int_age\"] = tg_yes[\"Age\"].apply(convertAge)\n"
     ]
    },
    {
     "data": {
      "text/plain": [
       "45.0    269\n",
       "60.0    258\n",
       "30.0    235\n",
       "18.0    185\n",
       "Name: int_age, dtype: int64"
      ]
     },
     "execution_count": 28,
     "metadata": {},
     "output_type": "execute_result"
    }
   ],
   "source": [
    "### Write your code below this comment.\n",
    "# Define function name\n",
    "def convertAge(inAge):\n",
    "    #ignore empty value\n",
    "    if pd.isnull(inAge) == True:\n",
    "        return None\n",
    "    else:\n",
    "        #Split text with space\n",
    "        age_list = inAge.split(\" \")\n",
    "        #replace 60+ to 60\n",
    "        age = age_list[0].replace(\"+\", \"\")\n",
    "        #convert string into int\n",
    "        age = int(age)\n",
    "        return age\n",
    "\n",
    "#Apply convertAge onto tg_yes[\"Age\"] column\n",
    "tg_yes[\"int_age\"] = tg_yes[\"Age\"].apply(convertAge)\n",
    "tg_yes[\"int_age\"].value_counts()"
   ]
  },
  {
   "cell_type": "markdown",
   "metadata": {},
   "source": [
    "### Can you report the most frequent income bracket in response to the question \"How much total combined money did all members of your HOUSEHOLD earn last year\"?"
   ]
  },
  {
   "cell_type": "code",
   "execution_count": 23,
   "metadata": {},
   "outputs": [
    {
     "data": {
      "text/plain": [
       "'$25,000 to $49,999'"
      ]
     },
     "execution_count": 23,
     "metadata": {},
     "output_type": "execute_result"
    }
   ],
   "source": [
    "### Write your code below this comment. \n",
    "tg_yes.iloc[:,63].value_counts().idxmax()"
   ]
  },
  {
   "cell_type": "markdown",
   "metadata": {},
   "source": [
    "### Can you write a small function to extract the numerical income for each person from the categorical variable \"How much total combined money did all members of your HOUSEHOLD earn last year\"? Create a new column \"int_income\" that contains the numerical data.\n",
    "<u>Note:</u> To keep things simple, assume that the numerical income of each person is the lower bound of the income group. For example, the numerical income for a person in the group \"75,000 to 99,999\" would be 75000."
   ]
  },
  {
   "cell_type": "code",
   "execution_count": 25,
   "metadata": {},
   "outputs": [
    {
     "name": "stdout",
     "output_type": "stream",
     "text": [
      "25000.0     166\n",
      "50000.0     127\n",
      "75000.0     127\n",
      "100000.0    109\n",
      "200000.0     76\n",
      "10000.0      60\n",
      "0.0          52\n",
      "125000.0     48\n",
      "150000.0     38\n",
      "175000.0     26\n",
      "Name: int_income, dtype: int64\n"
     ]
    },
    {
     "name": "stderr",
     "output_type": "stream",
     "text": [
      "<ipython-input-25-a9b933d4ce11>:26: SettingWithCopyWarning: \n",
      "A value is trying to be set on a copy of a slice from a DataFrame.\n",
      "Try using .loc[row_indexer,col_indexer] = value instead\n",
      "\n",
      "See the caveats in the documentation: https://pandas.pydata.org/pandas-docs/stable/user_guide/indexing.html#returning-a-view-versus-a-copy\n",
      "  tg_yes[\"int_income\"] = tg_yes.iloc[:,63].apply(convertIncome)\n"
     ]
    }
   ],
   "source": [
    "### Write your code below this comment. \n",
    "import string\n",
    "\n",
    "a_z = list(string.ascii_lowercase)\n",
    "A_Z = list(string.ascii_uppercase)\n",
    "chars = a_z + A_Z + [\"$\"] + [\",\"]\n",
    "\n",
    "def convertIncome(inData):\n",
    "    #Check Empty inData\n",
    "    if pd.isnull(inData) == True:\n",
    "        return None\n",
    "    else:\n",
    "        #Split the word by space\n",
    "        incList = inData.split(\" \")\n",
    "        income = incList[0]\n",
    "        #if value =\"Prefer\" then ignore\n",
    "        if income == \"Prefer\":\n",
    "            return None\n",
    "        else:\n",
    "            #For valid candidate, convert string to int\n",
    "            for ch in chars:\n",
    "                income = income.replace(ch, \"\")\n",
    "            income = int(income)\n",
    "            return income\n",
    "    \n",
    "tg_yes[\"int_income\"] = tg_yes.iloc[:,63].apply(convertIncome)\n",
    "print(tg_yes[\"int_income\"].value_counts())"
   ]
  },
  {
   "cell_type": "markdown",
   "metadata": {},
   "source": [
    "### Now display the first five rows of your dataset."
   ]
  },
  {
   "cell_type": "code",
   "execution_count": null,
   "metadata": {},
   "outputs": [],
   "source": [
    "### Write your code below this comment.\n",
    "tg_yes.head(5)"
   ]
  },
  {
   "cell_type": "markdown",
   "metadata": {},
   "source": [
    "### Using the newly created numerical income column, can you generate some descriptive statistics (such as mean, standard deviation, minimum, maximum etc) about this column?\n",
    "<u>Note:</u> Use a single method that gives you all the statistics."
   ]
  },
  {
   "cell_type": "code",
   "execution_count": null,
   "metadata": {},
   "outputs": [],
   "source": [
    "### Write your code below this comment.\n",
    "print(tg_yes[\"int_age\"].describe())"
   ]
  },
  {
   "cell_type": "code",
   "execution_count": null,
   "metadata": {},
   "outputs": [],
   "source": [
    "print(tg_yes[\"int_income\"].describe())"
   ]
  },
  {
   "cell_type": "markdown",
   "metadata": {},
   "source": [
    "### Can you figure out how far people with an income less than 15000 travel for Thanksgiving?"
   ]
  },
  {
   "cell_type": "code",
   "execution_count": null,
   "metadata": {},
   "outputs": [],
   "source": [
    "### Write your code below this comment.\n",
    "#Find out the int_income < 15000\n",
    "int_Less_15k = tg_yes[tg_yes[\"int_income\"] < 15000]\n",
    "\n",
    "#Find out \"How far will you travel for Thanksgiving?\"\n",
    "int_Less_15k_travel = int_Less_15k.iloc[:,52]\n",
    "print(int_Less_15k_travel.value_counts()) "
   ]
  },
  {
   "cell_type": "markdown",
   "metadata": {},
   "source": [
    "### Also, can you figure out how far people with an income greater than 15000 travel for Thanksgiving?"
   ]
  },
  {
   "cell_type": "code",
   "execution_count": null,
   "metadata": {},
   "outputs": [],
   "source": [
    "### Write your code below this comment.\n",
    "#Find out the int_income < 15000\n",
    "int_above_15k = tg_yes[tg_yes[\"int_income\"] > 15000]\n",
    "\n",
    "#Find out \"How far will you travel for Thanksgiving?\"\n",
    "int_above_15k_travel = int_above_15k.iloc[:,52]\n",
    "print(int_above_15k_travel.value_counts()) "
   ]
  },
  {
   "cell_type": "markdown",
   "metadata": {},
   "source": [
    "### Can you figure out the mean age of those who ever attended a \"Friendsgiving\" and also tried to meet up with hometown friends on Thanksgiving night?"
   ]
  },
  {
   "cell_type": "code",
   "execution_count": null,
   "metadata": {},
   "outputs": [],
   "source": [
    "### Write your code below this comment.\n",
    "# Find out Yes on index 55 and 56, then calcule the mean on [int_age] column\n",
    "MeanAge = tg_yes[(tg_yes.iloc[:,55]=='Yes') & (tg_yes.iloc[:,56]=='Yes')][\"int_age\"].mean()\n",
    "# display result with round\n",
    "print(round(MeanAge, 4))"
   ]
  },
  {
   "cell_type": "markdown",
   "metadata": {},
   "source": [
    "### Can you save the resulting dataframe (which includes the numerical age and income columns) as a CSV file?"
   ]
  },
  {
   "cell_type": "code",
   "execution_count": null,
   "metadata": {},
   "outputs": [],
   "source": [
    "### Write your code below this comment.\n",
    "tg_yes.to_csv('thanksgiving-updated.csv')"
   ]
  },
  {
   "cell_type": "code",
   "execution_count": null,
   "metadata": {},
   "outputs": [],
   "source": []
  }
 ],
 "metadata": {
  "kernelspec": {
   "display_name": "Python 3",
   "language": "python",
   "name": "python3"
  },
  "language_info": {
   "codemirror_mode": {
    "name": "ipython",
    "version": 3
   },
   "file_extension": ".py",
   "mimetype": "text/x-python",
   "name": "python",
   "nbconvert_exporter": "python",
   "pygments_lexer": "ipython3",
   "version": "3.8.8"
  }
 },
 "nbformat": 4,
 "nbformat_minor": 1
}
